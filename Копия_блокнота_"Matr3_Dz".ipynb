{
  "nbformat": 4,
  "nbformat_minor": 0,
  "metadata": {
    "colab": {
      "provenance": [],
      "authorship_tag": "ABX9TyPxdfi9jVf0UICcll7bqJsB",
      "include_colab_link": true
    },
    "kernelspec": {
      "name": "python3",
      "display_name": "Python 3"
    },
    "language_info": {
      "name": "python"
    }
  },
  "cells": [
    {
      "cell_type": "markdown",
      "metadata": {
        "id": "view-in-github",
        "colab_type": "text"
      },
      "source": [
        "<a href=\"https://colab.research.google.com/github/school1739/10G-2023/blob/student%2Fzinchenko/%D0%9A%D0%BE%D0%BF%D0%B8%D1%8F_%D0%B1%D0%BB%D0%BE%D0%BA%D0%BD%D0%BE%D1%82%D0%B0_%22Matr3_Dz%22.ipynb\" target=\"_parent\"><img src=\"https://colab.research.google.com/assets/colab-badge.svg\" alt=\"Open In Colab\"/></a>"
      ]
    },
    {
      "cell_type": "code",
      "execution_count": null,
      "metadata": {
        "id": "3ctfYa6yhC6P"
      },
      "outputs": [],
      "source": [
        "# в саду сорвали цветы\n",
        "garden = ('ромашка', 'роза', 'одуванчик', 'ромашка', 'гладиолус', 'подсолнух', 'роза')\n",
        "\n",
        "# на лугу сорвали цветы\n",
        "meadow = ('клевер', 'одуванчик', 'ромашка', 'клевер', 'мак', 'одуванчик', 'ромашка')\n",
        "\n",
        "# создайте множество цветов, произрастающих в саду и на лугу\n",
        "# garden_set =\n",
        "# meadow_set =\n",
        "\n",
        "garden_set = set(garden)\n",
        "meadow_set = set(meadow)\n",
        "\n",
        "\n",
        "# выведите на консоль все виды цветов\n",
        "\n",
        "all_flowers = meadow_set | garden_set\n",
        "print(all_flowers)\n",
        "# выведите на консоль те, которые растут и там и там\n",
        "\n",
        "all_location = meadow_set & garden_set\n",
        "print(all_location)\n",
        "# выведите на консоль те, которые растут в саду, но не растут на лугу\n",
        "\n",
        "print(garden_set - meadow_set)\n",
        "# выведите на консоль те, которые растут на лугу, но не растут в саду\n",
        "\n",
        "print(meadow_set - garden_set)"
      ]
    }
  ]
}