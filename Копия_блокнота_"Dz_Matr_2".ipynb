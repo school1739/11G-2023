{
  "nbformat": 4,
  "nbformat_minor": 0,
  "metadata": {
    "colab": {
      "provenance": [],
      "authorship_tag": "ABX9TyMYgcX+6HSlFiydQL7U4WzY",
      "include_colab_link": true
    },
    "kernelspec": {
      "name": "python3",
      "display_name": "Python 3"
    },
    "language_info": {
      "name": "python"
    }
  },
  "cells": [
    {
      "cell_type": "markdown",
      "metadata": {
        "id": "view-in-github",
        "colab_type": "text"
      },
      "source": [
        "<a href=\"https://colab.research.google.com/github/school1739/10G-2023/blob/student%2Fzinchenko/%D0%9A%D0%BE%D0%BF%D0%B8%D1%8F_%D0%B1%D0%BB%D0%BE%D0%BA%D0%BD%D0%BE%D1%82%D0%B0_%22Dz_Matr_2%22.ipynb\" target=\"_parent\"><img src=\"https://colab.research.google.com/assets/colab-badge.svg\" alt=\"Open In Colab\"/></a>"
      ]
    },
    {
      "cell_type": "code",
      "execution_count": null,
      "metadata": {
        "id": "-amhSXl4gM2h"
      },
      "outputs": [],
      "source": [
        "# Есть зашифрованное сообщение\n",
        "\n",
        "secret_message = [\n",
        "    'квевтфпп6щ3стмзалтнмаршгб5длгуча',\n",
        "    'дьсеы6лц2бане4т64ь4б3ущея6втщл6б',\n",
        "    'т3пплвце1н3и2кд4лы12чф1ап3бкычаь',\n",
        "    'ьд5фму3ежородт9г686буиимыкучшсал',\n",
        "    'бсц59мегщ2лятьаьгенедыв9фк9ехб1а',\n",
        "]\n",
        "\n",
        "# Нужно его расшифровать и вывести на консоль в удобочитаемом виде.\n",
        "# Должна получиться фраза на русском языке, например: как два байта переслать.\n",
        "\n",
        "# Ключ к расшифровке:\n",
        "#   первое слово - 4-я буква\n",
        "#   второе слово - буквы с 10 по 13, включительно\n",
        "#   третье слово - буквы с 6 по 15, включительно, через одну\n",
        "#   четвертое слово - буквы с 8 по 13, включительно, в обратном порядке\n",
        "#   пятое слово - буквы с 17 по 21, включительно, в обратном порядке\n",
        "#\n",
        "# Обратите вниманме:\n",
        "#   даны номера букв, а не индексы\n",
        "#   срез не включает последний индекс\n",
        "#   подробную информацию об обратных срезах см https://clck.ru/MfEMS\n",
        "#\n",
        "# Подсказки:\n",
        "#   В каждом элементе списка защифровано одно слово.\n",
        "#   Требуется задать конкретные индексы, например secret_message[3][12:23:4]\n",
        "#   слова, идущее в обратном порядке, нужно получить за 1 срез (используя отрицательный шаг)\n",
        "#   Если нужны вычисления и разные пробы - делайте это в консоли пайтона, тут нужен только результат\n",
        "\n",
        "\n",
        "word1 = secret_message[0][3]\n",
        "word2 = secret_message[1][9:13]\n",
        "word3 = secret_message[2][5:15:2]\n",
        "word4 = secret_message[3][12:6:-1]\n",
        "word5 = secret_message[4][20:15:-1]\n",
        "print(word1, word2, word3, word4, word5)"
      ]
    }
  ]
}