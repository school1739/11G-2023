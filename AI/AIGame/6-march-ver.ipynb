{
  "nbformat": 4,
  "nbformat_minor": 0,
  "metadata": {
    "colab": {
      "provenance": [],
      "authorship_tag": "ABX9TyNKrBR9Sh2qeLJNzJvP+N7p",
      "include_colab_link": true
    },
    "kernelspec": {
      "name": "python3",
      "display_name": "Python 3"
    },
    "language_info": {
      "name": "python"
    }
  },
  "cells": [
    {
      "cell_type": "markdown",
      "metadata": {
        "id": "view-in-github",
        "colab_type": "text"
      },
      "source": [
        "<a href=\"https://colab.research.google.com/github/school1739/10G-2023/blob/student%2Ffilippov/AI/AIGame/6-march-ver.ipynb\" target=\"_parent\"><img src=\"https://colab.research.google.com/assets/colab-badge.svg\" alt=\"Open In Colab\"/></a>"
      ]
    },
    {
      "cell_type": "markdown",
      "source": [
        "АВФТОР: ФЕЛИППОВ ЫВАН!!1"
      ],
      "metadata": {
        "id": "tSBRClEt7W7d"
      }
    },
    {
      "cell_type": "code",
      "source": [],
      "metadata": {
        "id": "eRYTMCSjUQsz"
      },
      "execution_count": 177,
      "outputs": []
    },
    {
      "cell_type": "code",
      "source": [
        "import random\n",
        "from copy import deepcopy"
      ],
      "metadata": {
        "id": "5H4lRpBQyub3"
      },
      "execution_count": 178,
      "outputs": []
    },
    {
      "cell_type": "code",
      "execution_count": 179,
      "metadata": {
        "id": "VE-D2MR1vHdF"
      },
      "outputs": [],
      "source": [
        "# Создаём словарь стаканов\n",
        "the_glasses={0:[1,2],\n",
        "             1:[1,2],\n",
        "             2:[1,2],\n",
        "             3:[1,2],\n",
        "             4:[1,2],\n",
        "             5:[1,2],\n",
        "             6:[1,2],\n",
        "             7:[1,2],\n",
        "             8:[1,2],\n",
        "             9:[1,2],\n",
        "             10:[1,2],\n",
        "             11:[1,2]}\n",
        "\n",
        "used_glasses={}  # вывод словаря стаканов\n",
        "situation = 11\n",
        "ai_is_winner=False\n"
      ]
    },
    {
      "cell_type": "code",
      "source": [
        "\n",
        "def move(situation): # сделать ход (выбрать случайную бумажку из стакана и вернуть значение)\n",
        "  detect = False\n",
        "  print('Ходит ИИ:')\n",
        "  if situation > 0:\n",
        "    while detect == False:\n",
        "      the_move = random.choice(the_glasses[situation])\n",
        "      print(the_move)\n",
        "      if situation - the_move >= 0:\n",
        "        detect = True\n",
        "    return the_move\n",
        "  else:\n",
        "    return(0)\n",
        "def used_glass_fill(situation, move): # записать использованные стаканы и бумажки)\n",
        "  used_glasses.update({situation:move})\n",
        "\n",
        "\n",
        "#def human_move(choice):\n",
        "#  return situation - choice\n",
        "\n",
        "\n"
      ],
      "metadata": {
        "id": "mckxym2Vw7GA"
      },
      "execution_count": 180,
      "outputs": []
    },
    {
      "cell_type": "code",
      "source": [
        "\n",
        "playerPoints = 0\n",
        "botPoints = 0\n",
        "steps=[]\n",
        "\n",
        "\n",
        "print(the_glasses)\n",
        "\n",
        "\n",
        "while (playerPoints < 10 and botPoints < 10):\n",
        "  playerWon = deepcopy(the_glasses)\n",
        "  botWon = deepcopy(the_glasses)\n",
        "  situation = 11\n",
        "  choice = 0 \n",
        "  player_lose = False\n",
        "  # print('СТАКАНЫ')\n",
        "  # print(the_glasses)\n",
        "  print(f\"На столе {situation} палочек\")\n",
        "  if ai_is_winner == False:\n",
        "    while situation > 0:\n",
        "      detect = False\n",
        "      while detect == False:\n",
        "        choice = int(input('Количество палочек, которое надо взять? (1 или 2)'))\n",
        "        while choice!=1 and choice!=2:\n",
        "          choice = int(input('Боже чел мамонт... 1 или 2 введи......... Клоун'))\n",
        "        if situation - choice >= 0:\n",
        "          detect = True\n",
        "          print('sit: ' + str(situation))\n",
        "        else:\n",
        "          print('Чел клоун... Сток палок нет. Может свои принесёшь?')\n",
        "\n",
        "      steps.append(choice)\n",
        "      playerWon[situation].append(choice)\n",
        "      situation = situation - choice\n",
        "      if situation == 0:\n",
        "        player_lose = True\n",
        "      \n",
        "      print(f\"На столе {situation} палочек\")\n",
        "      botStep = move(situation)\n",
        "      botWon[situation].append(botStep)\n",
        "      situation = situation - botStep\n",
        "      print(f\"На столе {situation} палочек\")\n",
        "      print()\n",
        "      steps.append(botStep)\n",
        "\n",
        "  tempSit = 11\n",
        "  if (player_lose == True):\n",
        "    botPoints += 1\n",
        "    print('Бот затащил тебя в соло')\n",
        "    print(botWon)\n",
        "    print(playerWon)\n",
        "    #print(steps)\n",
        "    the_glasses = botWon\n",
        "    steps = []\n",
        "\n",
        "\n",
        "\n",
        "  else:\n",
        "    playerPoints += 1\n",
        "    print('Вау ты победил вау вау')\n",
        "    #print(botWon)\n",
        "    #print(playerWon)\n",
        "    #print(steps)\n",
        "    the_glasses = playerWon\n",
        "    steps = []\n",
        "\n",
        "  print('Афигеть палки кончились.................')\n",
        "  print(f'Счёт:\\nИгрок:{playerPoints}      Бот попущенный: {botPoints}')\n",
        "  #print('Лог ходов: '+ str(steps))\n",
        "  # print('Стаканы: ' + str(the_glasses))\n",
        "  print('Шансы на выбивание каждой из цифр по стаканам:')\n",
        "  for i in range(1,12):\n",
        "    percentageFor1 = round(the_glasses[i].count(1) / len(the_glasses[i]) * 100, 2)\n",
        "    print(f'Стакан {i} | Шанс выбить 1: {percentageFor1}%; шанс выбить 0: {100-percentageFor1}% | Содержимое стакана: {the_glasses[i]}')\n",
        "  print('\\n\\n')\n",
        "print('ГЕЙМ ОВЕР ЪУЪ')\n",
        "if (playerPoints == 10):\n",
        "  print('Поздравляю! Победил ботика... Гордись этим всю жизнь')\n",
        "elif (botPoints == 10):\n",
        "  print('Чел... Тебя бот слил... Что ты делаешь в этой жизни не так?')\n",
        "else:\n",
        "  print(f'ТЫ СЛОМАЛ ИГРУ ИДИОТ!!! КАКИМ ОБРАЗОМ ВЫ НАБРАЛИ БОЛЬШЕ 10 ОЧКОВ!??!?!\\np:{playerPoints}\\nb:{botPoints}')\n"
      ],
      "metadata": {
        "colab": {
          "base_uri": "https://localhost:8080/"
        },
        "id": "ceJ4mfYPyzRN",
        "outputId": "d523f195-d5da-441c-8841-e7917803aa75"
      },
      "execution_count": null,
      "outputs": [
        {
          "output_type": "stream",
          "name": "stdout",
          "text": [
            "{0: [1, 2], 1: [1, 2], 2: [1, 2], 3: [1, 2], 4: [1, 2], 5: [1, 2], 6: [1, 2], 7: [1, 2], 8: [1, 2], 9: [1, 2], 10: [1, 2], 11: [1, 2]}\n",
            "На столе 11 палочек\n",
            "Количество палочек, которое надо взять? (1 или 2)1\n",
            "sit: 11\n",
            "На столе 10 палочек\n",
            "Ходит ИИ:\n",
            "1\n",
            "На столе 9 палочек\n",
            "\n",
            "Количество палочек, которое надо взять? (1 или 2)2\n",
            "sit: 9\n",
            "На столе 7 палочек\n",
            "Ходит ИИ:\n",
            "2\n",
            "На столе 5 палочек\n",
            "\n",
            "Количество палочек, которое надо взять? (1 или 2)1\n",
            "sit: 5\n",
            "На столе 4 палочек\n",
            "Ходит ИИ:\n",
            "2\n",
            "На столе 2 палочек\n",
            "\n",
            "Количество палочек, которое надо взять? (1 или 2)1\n",
            "sit: 2\n",
            "На столе 1 палочек\n",
            "Ходит ИИ:\n",
            "2\n",
            "2\n",
            "2\n",
            "2\n",
            "2\n",
            "1\n",
            "На столе 0 палочек\n",
            "\n",
            "Вау ты победил вау вау\n",
            "Афигеть палки кончились.................\n",
            "Счёт:\n",
            "Игрок:1      Бот попущенный: 0\n",
            "Шансы на выбивание каждой из цифр по стаканам:\n",
            "Стакан 1 | Шанс выбить 1: 50.0%; шанс выбить 0: 50.0% | Содержимое стакана: [1, 2]\n",
            "Стакан 2 | Шанс выбить 1: 66.67%; шанс выбить 0: 33.33% | Содержимое стакана: [1, 2, 1]\n",
            "Стакан 3 | Шанс выбить 1: 50.0%; шанс выбить 0: 50.0% | Содержимое стакана: [1, 2]\n",
            "Стакан 4 | Шанс выбить 1: 50.0%; шанс выбить 0: 50.0% | Содержимое стакана: [1, 2]\n",
            "Стакан 5 | Шанс выбить 1: 66.67%; шанс выбить 0: 33.33% | Содержимое стакана: [1, 2, 1]\n",
            "Стакан 6 | Шанс выбить 1: 50.0%; шанс выбить 0: 50.0% | Содержимое стакана: [1, 2]\n",
            "Стакан 7 | Шанс выбить 1: 50.0%; шанс выбить 0: 50.0% | Содержимое стакана: [1, 2]\n",
            "Стакан 8 | Шанс выбить 1: 50.0%; шанс выбить 0: 50.0% | Содержимое стакана: [1, 2]\n",
            "Стакан 9 | Шанс выбить 1: 33.33%; шанс выбить 0: 66.67% | Содержимое стакана: [1, 2, 2]\n",
            "Стакан 10 | Шанс выбить 1: 50.0%; шанс выбить 0: 50.0% | Содержимое стакана: [1, 2]\n",
            "Стакан 11 | Шанс выбить 1: 66.67%; шанс выбить 0: 33.33% | Содержимое стакана: [1, 2, 1]\n",
            "\n",
            "\n",
            "\n",
            "На столе 11 палочек\n"
          ]
        }
      ]
    },
    {
      "cell_type": "code",
      "source": [
        "f"
      ],
      "metadata": {
        "id": "UldNzk1w0W-c"
      },
      "execution_count": null,
      "outputs": []
    },
    {
      "cell_type": "code",
      "source": [],
      "metadata": {
        "id": "EUbukpys06CU"
      },
      "execution_count": null,
      "outputs": []
    }
  ]
}