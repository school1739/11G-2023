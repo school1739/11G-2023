{
  "nbformat": 4,
  "nbformat_minor": 0,
  "metadata": {
    "colab": {
      "provenance": [],
      "authorship_tag": "ABX9TyM2F8K1XhAyooWxDSIjU9qk",
      "include_colab_link": true
    },
    "kernelspec": {
      "name": "python3",
      "display_name": "Python 3"
    },
    "language_info": {
      "name": "python"
    }
  },
  "cells": [
    {
      "cell_type": "markdown",
      "metadata": {
        "id": "view-in-github",
        "colab_type": "text"
      },
      "source": [
        "<a href=\"https://colab.research.google.com/github/school1739/10G-2023/blob/student%2Ffilippov/AIGame/16Jan2023(GlassAI).ipynb\" target=\"_parent\"><img src=\"https://colab.research.google.com/assets/colab-badge.svg\" alt=\"Open In Colab\"/></a>"
      ]
    },
    {
      "cell_type": "markdown",
      "source": [
        "АВФТОР: ФЕЛИППОВ ЫВАН!!1"
      ],
      "metadata": {
        "id": "tSBRClEt7W7d"
      }
    },
    {
      "cell_type": "code",
      "source": [
        "import random"
      ],
      "metadata": {
        "id": "5H4lRpBQyub3"
      },
      "execution_count": null,
      "outputs": []
    },
    {
      "cell_type": "code",
      "execution_count": null,
      "metadata": {
        "id": "VE-D2MR1vHdF"
      },
      "outputs": [],
      "source": [
        "# Создаём словарь стаканов\n",
        "the_glasses={1:[1,1,1,2,2,2],\n",
        "             2:[1,1,1,2,2,2],\n",
        "             3:[1,1,1,2,2,2],\n",
        "             4:[1,1,1,2,2,2],\n",
        "             5:[1,1,1,2,2,2],\n",
        "             6:[1,1,1,2,2,2],\n",
        "             7:[1,1,1,2,2,2],\n",
        "             8:[1,1,1,2,2,2],\n",
        "             9:[1,1,1,2,2,2],\n",
        "             10:[1,1,1,2,2,2],\n",
        "             11:[1,1,1,2,2,2]}\n",
        "\n",
        "used_glasses={}  # вывод словаря стаканов\n",
        "situation = 11\n",
        "ai_is_winner=False\n"
      ]
    },
    {
      "cell_type": "code",
      "source": [
        "\n",
        "def move(situation): # сделать ход (выбрать случайную бумажку из стакана и вернуть значение)\n",
        "  detect = False\n",
        "  print('Ходит ИИ:')\n",
        "  if situation > 0:\n",
        "    while detect == False:\n",
        "      the_move = random.choice(the_glasses[situation])\n",
        "      print(the_move)\n",
        "      if situation - the_move >= 0:\n",
        "        detect = True\n",
        "    return the_move\n",
        "  else:\n",
        "    return(0)\n",
        "def used_glass_fill(situation, move): # записать использованные стаканы и бумажки)\n",
        "  used_glasses.update({situation:move})\n",
        "\n",
        "\n",
        "#def human_move(choice):\n",
        "#  return situation - choice\n",
        "\n",
        "\n"
      ],
      "metadata": {
        "id": "mckxym2Vw7GA"
      },
      "execution_count": null,
      "outputs": []
    },
    {
      "cell_type": "code",
      "source": [
        "\n",
        "playerPoints = 0\n",
        "botPoints = 0\n",
        "\n",
        "\n",
        "while (playerPoints < 10 and botPoints < 10):\n",
        "  situation = 11\n",
        "  choice = 0 \n",
        "  player_lose = False\n",
        "  print(f\"На столе {situation} палочек\")\n",
        "  if ai_is_winner == False:\n",
        "    while situation > 0:\n",
        "      detect = False\n",
        "      while detect == False:\n",
        "        choice = int(input('Количество палочек, которое надо взять? (1 или 2)'))\n",
        "        while choice!=1 and choice!=2:\n",
        "          choice = int(input('Боже чел мамонт... 1 или 2 введи......... Клоун'))\n",
        "        if situation - choice >= 0:\n",
        "          detect = True\n",
        "          print('sit: ' + str(situation))\n",
        "        else:\n",
        "          print('Чел клоун... Сток палок нет. Может свои принесёшь?')\n",
        "\n",
        "\n",
        "      situation = situation - choice\n",
        "      if situation == 0:\n",
        "        player_lose = True\n",
        "      print(f\"На столе {situation} палочек\")\n",
        "      situation = situation - move(situation)\n",
        "      print(f'На столе {situation} палочек')\n",
        "      print()\n",
        "\n",
        "  if (player_lose == True):\n",
        "    botPoints += 1\n",
        "    print('Бот затащил тебя в соло')\n",
        "  else:\n",
        "    playerPoints += 1\n",
        "    print('Вау ты победил вау вау')\n",
        "\n",
        "  print('Афигеть палки кончились.................')\n",
        "  print(f'Счёт:\\nИгрок:{playerPoints}      Бот попущенный: {botPoints}')\n",
        "  print('\\n\\n')\n",
        "\n",
        "print('ГЕЙМ ОВЕР ЪУЪ')\n",
        "if (playerPoints == 10):\n",
        "  print('Поздравляю! Победил ботика... Гордись этим всю жизнь')\n",
        "elif (botPoints == 10):\n",
        "  print('Чел... Тебя бот слил... Что ты делаешь в этой жизни не так?')\n",
        "else:\n",
        "  print(f'ТЫ СЛОМАЛ ИГРУ ИДИОТ!!! КАКИМ ОБРАЗОМ ВЫ НАБРАЛИ БОЛЬШЕ 10 ОЧКОВ!??!?!\\np:{playerPoints}\\nb:{botPoints}')\n"
      ],
      "metadata": {
        "colab": {
          "base_uri": "https://localhost:8080/",
          "height": 1000
        },
        "id": "ceJ4mfYPyzRN",
        "outputId": "338a51f3-3777-464d-e954-bb07a3c93b8d"
      },
      "execution_count": null,
      "outputs": [
        {
          "output_type": "stream",
          "name": "stdout",
          "text": [
            "На столе 11 палочек\n",
            "Количество палочек, которое надо взять? (1 или 2)2\n",
            "sit: 11\n",
            "На столе 9 палочек\n",
            "Ходит ИИ:\n",
            "2\n",
            "На столе 7 палочек\n",
            "\n",
            "Количество палочек, которое надо взять? (1 или 2)1\n",
            "sit: 7\n",
            "На столе 6 палочек\n",
            "Ходит ИИ:\n",
            "2\n",
            "На столе 4 палочек\n",
            "\n",
            "Количество палочек, которое надо взять? (1 или 2)1\n",
            "sit: 4\n",
            "На столе 3 палочек\n",
            "Ходит ИИ:\n",
            "2\n",
            "На столе 1 палочек\n",
            "\n",
            "Количество палочек, которое надо взять? (1 или 2)2\n",
            "Чел клоун... Сток палок нет. Может свои принесёшь?\n",
            "Количество палочек, которое надо взять? (1 или 2)-2\n",
            "Боже чел мамонт... 1 или 2 введи......... Клоун1\n",
            "sit: 1\n",
            "На столе 0 палочек\n",
            "Ходит ИИ:\n",
            "На столе 0 палочек\n",
            "\n",
            "Бот затащил тебя в соло\n",
            "Афигеть палки кончились.................\n",
            "Счёт:\n",
            "Игрок:0      Бот попущенный: 1\n",
            "\n",
            "\n",
            "\n",
            "На столе 11 палочек\n"
          ]
        },
        {
          "output_type": "error",
          "ename": "KeyboardInterrupt",
          "evalue": "ignored",
          "traceback": [
            "\u001b[0;31m---------------------------------------------------------------------------\u001b[0m",
            "\u001b[0;31mKeyboardInterrupt\u001b[0m                         Traceback (most recent call last)",
            "\u001b[0;32m<ipython-input-8-e44c35975924>\u001b[0m in \u001b[0;36m<module>\u001b[0;34m\u001b[0m\n\u001b[1;32m     12\u001b[0m       \u001b[0mdetect\u001b[0m \u001b[0;34m=\u001b[0m \u001b[0;32mFalse\u001b[0m\u001b[0;34m\u001b[0m\u001b[0;34m\u001b[0m\u001b[0m\n\u001b[1;32m     13\u001b[0m       \u001b[0;32mwhile\u001b[0m \u001b[0mdetect\u001b[0m \u001b[0;34m==\u001b[0m \u001b[0;32mFalse\u001b[0m\u001b[0;34m:\u001b[0m\u001b[0;34m\u001b[0m\u001b[0;34m\u001b[0m\u001b[0m\n\u001b[0;32m---> 14\u001b[0;31m         \u001b[0mchoice\u001b[0m \u001b[0;34m=\u001b[0m \u001b[0mint\u001b[0m\u001b[0;34m(\u001b[0m\u001b[0minput\u001b[0m\u001b[0;34m(\u001b[0m\u001b[0;34m'Количество палочек, которое надо взять? (1 или 2)'\u001b[0m\u001b[0;34m)\u001b[0m\u001b[0;34m)\u001b[0m\u001b[0;34m\u001b[0m\u001b[0;34m\u001b[0m\u001b[0m\n\u001b[0m\u001b[1;32m     15\u001b[0m         \u001b[0;32mwhile\u001b[0m \u001b[0mchoice\u001b[0m\u001b[0;34m!=\u001b[0m\u001b[0;36m1\u001b[0m \u001b[0;32mand\u001b[0m \u001b[0mchoice\u001b[0m\u001b[0;34m!=\u001b[0m\u001b[0;36m2\u001b[0m\u001b[0;34m:\u001b[0m\u001b[0;34m\u001b[0m\u001b[0;34m\u001b[0m\u001b[0m\n\u001b[1;32m     16\u001b[0m           \u001b[0mchoice\u001b[0m \u001b[0;34m=\u001b[0m \u001b[0mint\u001b[0m\u001b[0;34m(\u001b[0m\u001b[0minput\u001b[0m\u001b[0;34m(\u001b[0m\u001b[0;34m'Боже чел мамонт... 1 или 2 введи......... Клоун'\u001b[0m\u001b[0;34m)\u001b[0m\u001b[0;34m)\u001b[0m\u001b[0;34m\u001b[0m\u001b[0;34m\u001b[0m\u001b[0m\n",
            "\u001b[0;32m/usr/local/lib/python3.8/dist-packages/ipykernel/kernelbase.py\u001b[0m in \u001b[0;36mraw_input\u001b[0;34m(self, prompt)\u001b[0m\n\u001b[1;32m    858\u001b[0m                 \u001b[0;34m\"raw_input was called, but this frontend does not support input requests.\"\u001b[0m\u001b[0;34m\u001b[0m\u001b[0;34m\u001b[0m\u001b[0m\n\u001b[1;32m    859\u001b[0m             )\n\u001b[0;32m--> 860\u001b[0;31m         return self._input_request(str(prompt),\n\u001b[0m\u001b[1;32m    861\u001b[0m             \u001b[0mself\u001b[0m\u001b[0;34m.\u001b[0m\u001b[0m_parent_ident\u001b[0m\u001b[0;34m,\u001b[0m\u001b[0;34m\u001b[0m\u001b[0;34m\u001b[0m\u001b[0m\n\u001b[1;32m    862\u001b[0m             \u001b[0mself\u001b[0m\u001b[0;34m.\u001b[0m\u001b[0m_parent_header\u001b[0m\u001b[0;34m,\u001b[0m\u001b[0;34m\u001b[0m\u001b[0;34m\u001b[0m\u001b[0m\n",
            "\u001b[0;32m/usr/local/lib/python3.8/dist-packages/ipykernel/kernelbase.py\u001b[0m in \u001b[0;36m_input_request\u001b[0;34m(self, prompt, ident, parent, password)\u001b[0m\n\u001b[1;32m    902\u001b[0m             \u001b[0;32mexcept\u001b[0m \u001b[0mKeyboardInterrupt\u001b[0m\u001b[0;34m:\u001b[0m\u001b[0;34m\u001b[0m\u001b[0;34m\u001b[0m\u001b[0m\n\u001b[1;32m    903\u001b[0m                 \u001b[0;31m# re-raise KeyboardInterrupt, to truncate traceback\u001b[0m\u001b[0;34m\u001b[0m\u001b[0;34m\u001b[0m\u001b[0;34m\u001b[0m\u001b[0m\n\u001b[0;32m--> 904\u001b[0;31m                 \u001b[0;32mraise\u001b[0m \u001b[0mKeyboardInterrupt\u001b[0m\u001b[0;34m(\u001b[0m\u001b[0;34m\"Interrupted by user\"\u001b[0m\u001b[0;34m)\u001b[0m \u001b[0;32mfrom\u001b[0m \u001b[0;32mNone\u001b[0m\u001b[0;34m\u001b[0m\u001b[0;34m\u001b[0m\u001b[0m\n\u001b[0m\u001b[1;32m    905\u001b[0m             \u001b[0;32mexcept\u001b[0m \u001b[0mException\u001b[0m \u001b[0;32mas\u001b[0m \u001b[0me\u001b[0m\u001b[0;34m:\u001b[0m\u001b[0;34m\u001b[0m\u001b[0;34m\u001b[0m\u001b[0m\n\u001b[1;32m    906\u001b[0m                 \u001b[0mself\u001b[0m\u001b[0;34m.\u001b[0m\u001b[0mlog\u001b[0m\u001b[0;34m.\u001b[0m\u001b[0mwarning\u001b[0m\u001b[0;34m(\u001b[0m\u001b[0;34m\"Invalid Message:\"\u001b[0m\u001b[0;34m,\u001b[0m \u001b[0mexc_info\u001b[0m\u001b[0;34m=\u001b[0m\u001b[0;32mTrue\u001b[0m\u001b[0;34m)\u001b[0m\u001b[0;34m\u001b[0m\u001b[0;34m\u001b[0m\u001b[0m\n",
            "\u001b[0;31mKeyboardInterrupt\u001b[0m: Interrupted by user"
          ]
        }
      ]
    },
    {
      "cell_type": "code",
      "source": [],
      "metadata": {
        "id": "UldNzk1w0W-c"
      },
      "execution_count": null,
      "outputs": []
    },
    {
      "cell_type": "code",
      "source": [],
      "metadata": {
        "id": "EUbukpys06CU"
      },
      "execution_count": null,
      "outputs": []
    }
  ]
}