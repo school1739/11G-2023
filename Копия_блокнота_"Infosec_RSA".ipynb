{
  "nbformat": 4,
  "nbformat_minor": 0,
  "metadata": {
    "colab": {
      "provenance": [],
      "authorship_tag": "ABX9TyMefQCsbQxx9wHBU1sEWXJb",
      "include_colab_link": true
    },
    "kernelspec": {
      "name": "python3",
      "display_name": "Python 3"
    },
    "language_info": {
      "name": "python"
    }
  },
  "cells": [
    {
      "cell_type": "markdown",
      "metadata": {
        "id": "view-in-github",
        "colab_type": "text"
      },
      "source": [
        "<a href=\"https://colab.research.google.com/github/school1739/11G-2023/blob/student%2Fzinchenko/%D0%9A%D0%BE%D0%BF%D0%B8%D1%8F_%D0%B1%D0%BB%D0%BE%D0%BA%D0%BD%D0%BE%D1%82%D0%B0_%22Infosec_RSA%22.ipynb\" target=\"_parent\"><img src=\"https://colab.research.google.com/assets/colab-badge.svg\" alt=\"Open In Colab\"/></a>"
      ]
    },
    {
      "cell_type": "code",
      "execution_count": null,
      "metadata": {
        "id": "vL_66I9ry0Io"
      },
      "outputs": [],
      "source": [
        "# Large Prime Generation for RSA\n",
        "import random\n",
        "import math\n",
        "\n",
        "# Pre generated primes\n",
        "first_primes_list = [2, 3, 5, 7, 11, 13, 17, 19, 23, 29,\n",
        "                     31, 37, 41, 43, 47, 53, 59, 61, 67,\n",
        "                     71, 73, 79, 83, 89, 97, 101, 103,\n",
        "                     107, 109, 113, 127, 131, 137, 139,\n",
        "                     149, 151, 157, 163, 167, 173, 179,\n",
        "                     181, 191, 193, 197, 199, 211, 223,\n",
        "                     227, 229, 233, 239, 241, 251, 257,\n",
        "                     263, 269, 271, 277, 281, 283, 293,\n",
        "                     307, 311, 313, 317, 331, 337, 347, 349]\n",
        "\n",
        "\n",
        "def nBitRandom(n):\n",
        "    return random.randrange(2**(n - 1) + 1, 2**n - 1)\n",
        "\n",
        "\n",
        "def getLowLevelPrime(n):\n",
        "    '''Generate a prime candidate divisible\n",
        "\tby first primes'''\n",
        "    while True:\n",
        "        # Obtain a random number\n",
        "        pc = nBitRandom(n)\n",
        "\n",
        "        # Test divisibility by pre-generated\n",
        "        # primes\n",
        "        for divisor in first_primes_list:\n",
        "            if pc % divisor == 0 and divisor**2 <= pc:\n",
        "                break\n",
        "        else:\n",
        "            return pc\n",
        "\n",
        "\n",
        "def isMillerRabinPassed(mrc):\n",
        "    '''Run 20 iterations of Rabin Miller Primality test'''\n",
        "    maxDivisionsByTwo = 0\n",
        "    ec = mrc - 1\n",
        "    while ec % 2 == 0:\n",
        "        ec >>= 1\n",
        "        maxDivisionsByTwo += 1\n",
        "    assert (2**maxDivisionsByTwo * ec == mrc - 1)\n",
        "\n",
        "    def trialComposite(round_tester):\n",
        "        if pow(round_tester, ec, mrc) == 1:\n",
        "            return False\n",
        "        for i in range(maxDivisionsByTwo):\n",
        "            if pow(round_tester, 2**i * ec, mrc) == mrc - 1:\n",
        "                return False\n",
        "        return True\n",
        "\n",
        "    # Set number of trials here\n",
        "    numberOfRabinTrials = 20\n",
        "    for i in range(numberOfRabinTrials):\n",
        "        round_tester = random.randrange(2, mrc)\n",
        "        if trialComposite(round_tester):\n",
        "            return False\n",
        "    return True\n",
        "\n",
        "\n",
        "def get_key():\n",
        "    while True:\n",
        "        n = 1024\n",
        "        prime_candidate = getLowLevelPrime(n)\n",
        "        if not isMillerRabinPassed(prime_candidate):\n",
        "            continue\n",
        "        else:\n",
        "            return prime_candidate\n",
        "            break\n",
        "\n",
        "\n",
        "p = get_key()\n",
        "q = get_key()\n",
        "n = p * q\n",
        "fi = (p - 1) * (q - 1)\n",
        "\n",
        "\n",
        "def fe(fi):\n",
        "    s = [i for i in range(1, fi + 1) if math.gcd(fi, i) == 1]\n",
        "    e = random.choice(s)\n",
        "    return e"
      ]
    }
  ]
}