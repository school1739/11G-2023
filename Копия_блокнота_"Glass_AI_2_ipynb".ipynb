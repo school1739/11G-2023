{
  "nbformat": 4,
  "nbformat_minor": 0,
  "metadata": {
    "colab": {
      "provenance": [],
      "include_colab_link": true
    },
    "kernelspec": {
      "name": "python3",
      "display_name": "Python 3"
    },
    "language_info": {
      "name": "python"
    }
  },
  "cells": [
    {
      "cell_type": "markdown",
      "metadata": {
        "id": "view-in-github",
        "colab_type": "text"
      },
      "source": [
        "<a href=\"https://colab.research.google.com/github/school1739/10G-2023/blob/student%2Fzubkov/%D0%9A%D0%BE%D0%BF%D0%B8%D1%8F_%D0%B1%D0%BB%D0%BE%D0%BA%D0%BD%D0%BE%D1%82%D0%B0_%22Glass_AI_2_ipynb%22.ipynb\" target=\"_parent\"><img src=\"https://colab.research.google.com/assets/colab-badge.svg\" alt=\"Open In Colab\"/></a>"
      ]
    },
    {
      "cell_type": "code",
      "source": [
        "import random # импорт библиотеки случайных чисел "
      ],
      "metadata": {
        "id": "NlEH5CrVysGr"
      },
      "execution_count": null,
      "outputs": []
    },
    {
      "cell_type": "code",
      "execution_count": null,
      "metadata": {
        "id": "oW2UUrmKvDJJ"
      },
      "outputs": [],
      "source": [
        "# Создаём словарь стаканов\n",
        "the_glasses={1:[1,1,1,2,2,2],\n",
        "             2:[1,1,1,2,2,2],\n",
        "             3:[1,1,1,2,2,2],\n",
        "             4:[1,1,1,2,2,2],\n",
        "             5:[1,1,1,2,2,2],\n",
        "             6:[1,1,1,2,2,2],\n",
        "             7:[1,1,1,2,2,2],\n",
        "             8:[1,1,1,2,2,2],\n",
        "             9:[1,1,1,2,2,2],\n",
        "             10:[1,1,1,2,2,2],\n",
        "             11:[1,1,1,2,2,2]}\n",
        "\n",
        "used_glasses={}  # вывод словаря стаканов\n",
        "ai_is_winner = True\n",
        "human_wins = 0\n",
        "ai_wins = 0"
      ]
    },
    {
      "cell_type": "code",
      "source": [
        "def move(situation): # сделать ход (выбрать случайную бумажку из стакана и вернуть значение)\n",
        "  if situation == 1:\n",
        "    print('Ходит ИИ:')\n",
        "    the_move = 1\n",
        "  else:\n",
        "    if situation != 0:\n",
        "      print('Ходит ИИ:')\n",
        "      the_move = random.choice(the_glasses[situation])\n",
        "  print(f'ИИ выбрал: {the_move}')\n",
        "  used_glasses.update({situation: the_move})\n",
        "  return the_move\n",
        "\n",
        "\n",
        "def glass_update(used_glasses, the_glasses):\n",
        "    if ai_is_winner == True:\n",
        "      for key in used_glasses:\n",
        "        the_glasses[key].append(used_glasses[key])\n",
        "    else:\n",
        "      for key in used_glasses:\n",
        "        if used_glasses[key] in the_glasses[key]:\n",
        "          the_glasses[key].remove(used_glasses[key])\n",
        "    return the_glasses\n",
        "\n"
      ],
      "metadata": {
        "id": "tHX6Azf8xGaM"
      },
      "execution_count": null,
      "outputs": []
    },
    {
      "cell_type": "code",
      "source": [
        "while ai_wins != 10 and human_wins != 10:\n",
        "  situation = 11\n",
        "  print(f\"На столе {situation} палочек.\")\n",
        "  while situation > 0:\n",
        "    if ai_is_winner==True:\n",
        "      if situation == 1:\n",
        "        choice = 1\n",
        "        last_choice = 'Человек'\n",
        "        print('Ничего не остается, кроме как взять 1 палочку')\n",
        "        situation=situation - choice\n",
        "      else:\n",
        "        choice=int(input('Сколько палочек взять? 1 или 2? '))\n",
        "        last_choice = 'Человек'\n",
        "        while choice!=1 and choice!=2:\n",
        "          choice=int(input(\"1 или 2, необразованное чмо!!!!\"))\n",
        "        situation=situation - choice\n",
        "        print(f\"На столе {situation} палочек.\")\n",
        "        if situation != 0:\n",
        "          situation = situation - move(situation)\n",
        "          last_choice = 'ИИ'\n",
        "          print(f\"На столе {situation} палочек.\")\n",
        "    else:\n",
        "      if situation != 0:\n",
        "        situation = situation - move(situation)\n",
        "        last_choice = 'ИИ'\n",
        "        print(f\"На столе {situation} палочек.\")\n",
        "        if situation == 1:\n",
        "          choice = 1\n",
        "          last_choice = 'Человек'\n",
        "          print('Ничего не остается, кроме как взять 1 палочку')\n",
        "          situation=situation - choice\n",
        "        else:\n",
        "          if situation != 0:\n",
        "            choice=int(input('Сколько палочек взять? 1 или 2? '))\n",
        "            last_choice = 'Человек'\n",
        "            while choice!=1 and choice!=2:\n",
        "              choice=int(input(\"1 или 2, необразованное чмо!!!!\"))\n",
        "            situation=situation - choice\n",
        "            print(f\"На столе {situation} палочек.\")\n",
        "  print(f'{last_choice} проиграл')\n",
        "  if last_choice == 'ИИ':\n",
        "    ai_is_winner = False\n",
        "    human_wins += 1\n",
        "  else:\n",
        "    ai_is_winner = True\n",
        "    ai_wins += 1\n",
        "  glass_update(used_glasses, the_glasses)\n",
        "if ai_is_winner == True:\n",
        "  print('По итогам игры победил ИИ')\n",
        "else:\n",
        "  print('По итогам игры победил Человек')\n",
        "#print(the_glasses)\n"
      ],
      "metadata": {
        "colab": {
          "base_uri": "https://localhost:8080/",
          "height": 415
        },
        "id": "csSYGn3OyxfT",
        "outputId": "9deb8e86-5415-4049-e789-2cb8ea2c6ed3"
      },
      "execution_count": null,
      "outputs": [
        {
          "output_type": "stream",
          "name": "stdout",
          "text": [
            "На столе 11 палочек.\n"
          ]
        },
        {
          "output_type": "error",
          "ename": "KeyboardInterrupt",
          "evalue": "ignored",
          "traceback": [
            "\u001b[0;31m---------------------------------------------------------------------------\u001b[0m",
            "\u001b[0;31mKeyboardInterrupt\u001b[0m                         Traceback (most recent call last)",
            "\u001b[0;32m<ipython-input-178-dde90f215349>\u001b[0m in \u001b[0;36m<module>\u001b[0;34m\u001b[0m\n\u001b[1;32m     10\u001b[0m         \u001b[0msituation\u001b[0m\u001b[0;34m=\u001b[0m\u001b[0msituation\u001b[0m \u001b[0;34m-\u001b[0m \u001b[0mchoice\u001b[0m\u001b[0;34m\u001b[0m\u001b[0;34m\u001b[0m\u001b[0m\n\u001b[1;32m     11\u001b[0m       \u001b[0;32melse\u001b[0m\u001b[0;34m:\u001b[0m\u001b[0;34m\u001b[0m\u001b[0;34m\u001b[0m\u001b[0m\n\u001b[0;32m---> 12\u001b[0;31m         \u001b[0mchoice\u001b[0m\u001b[0;34m=\u001b[0m\u001b[0mint\u001b[0m\u001b[0;34m(\u001b[0m\u001b[0minput\u001b[0m\u001b[0;34m(\u001b[0m\u001b[0;34m'Сколько палочек взять? 1 или 2? '\u001b[0m\u001b[0;34m)\u001b[0m\u001b[0;34m)\u001b[0m\u001b[0;34m\u001b[0m\u001b[0;34m\u001b[0m\u001b[0m\n\u001b[0m\u001b[1;32m     13\u001b[0m         \u001b[0mlast_choice\u001b[0m \u001b[0;34m=\u001b[0m \u001b[0;34m'Человек'\u001b[0m\u001b[0;34m\u001b[0m\u001b[0;34m\u001b[0m\u001b[0m\n\u001b[1;32m     14\u001b[0m         \u001b[0;32mwhile\u001b[0m \u001b[0mchoice\u001b[0m\u001b[0;34m!=\u001b[0m\u001b[0;36m1\u001b[0m \u001b[0;32mand\u001b[0m \u001b[0mchoice\u001b[0m\u001b[0;34m!=\u001b[0m\u001b[0;36m2\u001b[0m\u001b[0;34m:\u001b[0m\u001b[0;34m\u001b[0m\u001b[0;34m\u001b[0m\u001b[0m\n",
            "\u001b[0;32m/usr/local/lib/python3.8/dist-packages/ipykernel/kernelbase.py\u001b[0m in \u001b[0;36mraw_input\u001b[0;34m(self, prompt)\u001b[0m\n\u001b[1;32m    858\u001b[0m                 \u001b[0;34m\"raw_input was called, but this frontend does not support input requests.\"\u001b[0m\u001b[0;34m\u001b[0m\u001b[0;34m\u001b[0m\u001b[0m\n\u001b[1;32m    859\u001b[0m             )\n\u001b[0;32m--> 860\u001b[0;31m         return self._input_request(str(prompt),\n\u001b[0m\u001b[1;32m    861\u001b[0m             \u001b[0mself\u001b[0m\u001b[0;34m.\u001b[0m\u001b[0m_parent_ident\u001b[0m\u001b[0;34m,\u001b[0m\u001b[0;34m\u001b[0m\u001b[0;34m\u001b[0m\u001b[0m\n\u001b[1;32m    862\u001b[0m             \u001b[0mself\u001b[0m\u001b[0;34m.\u001b[0m\u001b[0m_parent_header\u001b[0m\u001b[0;34m,\u001b[0m\u001b[0;34m\u001b[0m\u001b[0;34m\u001b[0m\u001b[0m\n",
            "\u001b[0;32m/usr/local/lib/python3.8/dist-packages/ipykernel/kernelbase.py\u001b[0m in \u001b[0;36m_input_request\u001b[0;34m(self, prompt, ident, parent, password)\u001b[0m\n\u001b[1;32m    902\u001b[0m             \u001b[0;32mexcept\u001b[0m \u001b[0mKeyboardInterrupt\u001b[0m\u001b[0;34m:\u001b[0m\u001b[0;34m\u001b[0m\u001b[0;34m\u001b[0m\u001b[0m\n\u001b[1;32m    903\u001b[0m                 \u001b[0;31m# re-raise KeyboardInterrupt, to truncate traceback\u001b[0m\u001b[0;34m\u001b[0m\u001b[0;34m\u001b[0m\u001b[0;34m\u001b[0m\u001b[0m\n\u001b[0;32m--> 904\u001b[0;31m                 \u001b[0;32mraise\u001b[0m \u001b[0mKeyboardInterrupt\u001b[0m\u001b[0;34m(\u001b[0m\u001b[0;34m\"Interrupted by user\"\u001b[0m\u001b[0;34m)\u001b[0m \u001b[0;32mfrom\u001b[0m \u001b[0;32mNone\u001b[0m\u001b[0;34m\u001b[0m\u001b[0;34m\u001b[0m\u001b[0m\n\u001b[0m\u001b[1;32m    905\u001b[0m             \u001b[0;32mexcept\u001b[0m \u001b[0mException\u001b[0m \u001b[0;32mas\u001b[0m \u001b[0me\u001b[0m\u001b[0;34m:\u001b[0m\u001b[0;34m\u001b[0m\u001b[0;34m\u001b[0m\u001b[0m\n\u001b[1;32m    906\u001b[0m                 \u001b[0mself\u001b[0m\u001b[0;34m.\u001b[0m\u001b[0mlog\u001b[0m\u001b[0;34m.\u001b[0m\u001b[0mwarning\u001b[0m\u001b[0;34m(\u001b[0m\u001b[0;34m\"Invalid Message:\"\u001b[0m\u001b[0;34m,\u001b[0m \u001b[0mexc_info\u001b[0m\u001b[0;34m=\u001b[0m\u001b[0;32mTrue\u001b[0m\u001b[0;34m)\u001b[0m\u001b[0;34m\u001b[0m\u001b[0;34m\u001b[0m\u001b[0m\n",
            "\u001b[0;31mKeyboardInterrupt\u001b[0m: Interrupted by user"
          ]
        }
      ]
    },
    {
      "cell_type": "code",
      "source": [],
      "metadata": {
        "id": "ABWGWN9Z804j"
      },
      "execution_count": null,
      "outputs": []
    },
    {
      "cell_type": "code",
      "source": [],
      "metadata": {
        "id": "nhMctW9Jzitu"
      },
      "execution_count": null,
      "outputs": []
    }
  ]
}