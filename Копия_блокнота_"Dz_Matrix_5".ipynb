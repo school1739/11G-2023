{
  "nbformat": 4,
  "nbformat_minor": 0,
  "metadata": {
    "colab": {
      "provenance": [],
      "authorship_tag": "ABX9TyNnRy68and3uoWHya21fyiX",
      "include_colab_link": true
    },
    "kernelspec": {
      "name": "python3",
      "display_name": "Python 3"
    },
    "language_info": {
      "name": "python"
    }
  },
  "cells": [
    {
      "cell_type": "markdown",
      "metadata": {
        "id": "view-in-github",
        "colab_type": "text"
      },
      "source": [
        "<a href=\"https://colab.research.google.com/github/school1739/10G-2023/blob/student%2Fzinchenko/%D0%9A%D0%BE%D0%BF%D0%B8%D1%8F_%D0%B1%D0%BB%D0%BE%D0%BA%D0%BD%D0%BE%D1%82%D0%B0_%22Dz_Matrix_5%22.ipynb\" target=\"_parent\"><img src=\"https://colab.research.google.com/assets/colab-badge.svg\" alt=\"Open In Colab\"/></a>"
      ]
    },
    {
      "cell_type": "code",
      "execution_count": null,
      "metadata": {
        "id": "1JJKXaIesF-m"
      },
      "outputs": [],
      "source": [
        "# Есть словарь кодов товаров\n",
        "\n",
        "goods = {\n",
        "    'Лампа': '12345',\n",
        "    'Стол': '23456',\n",
        "    'Диван': '34567',\n",
        "    'Стул': '45678',\n",
        "}\n",
        "\n",
        "# Есть словарь списков количества товаров на складе.\n",
        "\n",
        "store = {\n",
        "    '12345': [\n",
        "        {'quantity': 27, 'price': 42},\n",
        "    ],\n",
        "    '23456': [\n",
        "        {'quantity': 22, 'price': 510},\n",
        "        {'quantity': 32, 'price': 520},\n",
        "    ],\n",
        "    '34567': [\n",
        "        {'quantity': 2, 'price': 1200},\n",
        "        {'quantity': 1, 'price': 1150},\n",
        "    ],\n",
        "    '45678': [\n",
        "        {'quantity': 50, 'price': 100},\n",
        "        {'quantity': 12, 'price': 95},\n",
        "        {'quantity': 43, 'price': 97},\n",
        "    ],\n",
        "}\n",
        "\n",
        "# Рассчитать на какую сумму лежит каждого товара на складе\n",
        "# например для ламп\n",
        "\n",
        "'''lamps_cost = store[goods['Лампа']][0]['quantity'] * store[goods['Лампа']][0]['price']\n",
        "# или проще (/сложнее ?)\n",
        "lamp_code = goods['Лампа']\n",
        "lamps_item = store[lamp_code][0]\n",
        "lamps_quantity = lamps_item['quantity']\n",
        "lamps_price = lamps_item['price']\n",
        "lamps_cost = lamps_quantity * lamps_price\n",
        "print('Лампа -', lamps_quantity, 'шт, стоимость', lamps_cost, 'руб')'''\n",
        "\n",
        "# Вывести стоимость каждого вида товара на складе:\n",
        "# один раз распечать сколько всего столов и их общая стоимость,\n",
        "# один раз распечать сколько всего стульев и их общая стоимость,\n",
        "#   и т.д. на складе\n",
        "# Формат строки <товар> - <кол-во> шт, стоимость <общая стоимость> руб\n",
        "\n",
        "\n",
        "for key in goods:\n",
        "    good_cost = 0\n",
        "    quantity_in_storage = 0\n",
        "    for number_in_storage in range(len(store[goods[key]])):\n",
        "        good_cost += store[goods[key]][number_in_storage]['quantity'] * store[goods[key]][number_in_storage]['price']\n",
        "        quantity_in_storage += store[goods[key]][number_in_storage]['quantity']\n",
        "    print(f\"{key} - {quantity_in_storage} шт, стоимость {good_cost} руб\")"
      ]
    }
  ]
}