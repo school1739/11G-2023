{
  "cells": [
    {
      "cell_type": "markdown",
      "metadata": {
        "id": "view-in-github",
        "colab_type": "text"
      },
      "source": [
        "<a href=\"https://colab.research.google.com/github/school1739/10G-2023/blob/student%2Fzinchenko/GLASS_AI.ipynb\" target=\"_parent\"><img src=\"https://colab.research.google.com/assets/colab-badge.svg\" alt=\"Open In Colab\"/></a>"
      ]
    },
    {
      "cell_type": "code",
      "execution_count": null,
      "metadata": {
        "id": "QgwYCFCwyxXA"
      },
      "outputs": [],
      "source": [
        "import random"
      ]
    },
    {
      "cell_type": "code",
      "execution_count": null,
      "metadata": {
        "id": "2g6TEspfwPQ9"
      },
      "outputs": [],
      "source": [
        "the_glasses = {1:[1,1,1,2,2,2],  #Вениамин Ягупов и Фёдор Зинченко\n",
        "               2:[1,1,1,2,2,2],\n",
        "               3:[1,1,1,2,2,2],\n",
        "               4:[1,1,1,2,2,2],\n",
        "               5:[1,1,1,2,2,2],\n",
        "               6:[1,1,1,2,2,2],\n",
        "               7:[1,1,1,2,2,2],\n",
        "               8:[1,1,1,2,2,2],\n",
        "               9:[1,1,1,2,2,2],\n",
        "               10:[1,1,1,2,2,2],\n",
        "               11:[1,1,1,2,2,2]}\n",
        "\n",
        "win_glasses={}# вывод словаря стаканов\n",
        "situation = 11\n",
        "ai_is_winner = False"
      ]
    },
    {
      "cell_type": "code",
      "execution_count": null,
      "metadata": {
        "id": "Gl2WMJSexyfA"
      },
      "outputs": [],
      "source": [
        "def move(situation):# сделать ход (выбрать случ. бумажку из стакана и вернуть знаечение)\n",
        "  pt = False\n",
        "  print(\"Ходит ИИ\")\n",
        "  if situation > 0:\n",
        "    while pt == False:\n",
        "      the_move = random.choice(the_glasses[situation])\n",
        "      print(the_move)\n",
        "      if situation - the_move >= 0:\n",
        "        pt = True\n",
        "      return the_move\n",
        "    else:\n",
        "    return(0)\n",
        "   \n",
        "\n",
        "def win_glasses_fill(situation,move):# записать использованные стаканы и бумажки\n",
        "  win_glasses.update({situation:move})\n",
        "\n",
        "#def human_move(choice):# ход игрока-человека\n",
        "  #return situation-choice\n"
      ]
    },
    {
      "cell_type": "code",
      "execution_count": null,
      "metadata": {
        "colab": {
          "background_save": true,
          "base_uri": "https://localhost:8080/"
        },
        "id": "BVvQFmYHy6Le",
        "outputId": "52f58e51-7dbe-49ba-cafa-e490b7c75dc5"
      },
      "outputs": [
        {
          "name": "stdout",
          "output_type": "stream",
          "text": [
            "На столе 11 палочек\n",
            "на столе 9 палочек\n",
            "Ходит ИИ\n",
            "ИИ взял 2 палочек\n",
            "на столе 7 палочек\n",
            "на столе 6 палочек\n",
            "Ходит ИИ\n",
            "ИИ взял 2 палочек\n",
            "на столе 4 палочек\n"
          ]
        },
        {
          "ename": "KeyboardInterrupt",
          "evalue": "ignored",
          "output_type": "error",
          "traceback": [
            "\u001b[0;31m---------------------------------------------------------------------------\u001b[0m",
            "\u001b[0;31mKeyboardInterrupt\u001b[0m                         Traceback (most recent call last)",
            "\u001b[0;32m<ipython-input-4-41fffbabd2a4>\u001b[0m in \u001b[0;36m<module>\u001b[0;34m\u001b[0m\n\u001b[1;32m      2\u001b[0m \u001b[0;32mwhile\u001b[0m \u001b[0msituation\u001b[0m\u001b[0;34m>\u001b[0m\u001b[0;36m0\u001b[0m\u001b[0;34m:\u001b[0m\u001b[0;34m\u001b[0m\u001b[0;34m\u001b[0m\u001b[0m\n\u001b[1;32m      3\u001b[0m   \u001b[0;32mif\u001b[0m \u001b[0mai_is_winner\u001b[0m \u001b[0;34m==\u001b[0m \u001b[0;32mFalse\u001b[0m\u001b[0;34m:\u001b[0m\u001b[0;34m\u001b[0m\u001b[0;34m\u001b[0m\u001b[0m\n\u001b[0;32m----> 4\u001b[0;31m     \u001b[0mchoice\u001b[0m \u001b[0;34m=\u001b[0m \u001b[0mint\u001b[0m\u001b[0;34m(\u001b[0m\u001b[0minput\u001b[0m\u001b[0;34m(\u001b[0m\u001b[0;34m\"Сколько палочек взять? 1 или 2\"\u001b[0m\u001b[0;34m)\u001b[0m\u001b[0;34m)\u001b[0m\u001b[0;34m\u001b[0m\u001b[0;34m\u001b[0m\u001b[0m\n\u001b[0m\u001b[1;32m      5\u001b[0m     \u001b[0;32mwhile\u001b[0m \u001b[0mchoice\u001b[0m \u001b[0;34m!=\u001b[0m \u001b[0;36m1\u001b[0m \u001b[0;32mand\u001b[0m \u001b[0mchoice\u001b[0m \u001b[0;34m!=\u001b[0m \u001b[0;36m2\u001b[0m\u001b[0;34m:\u001b[0m\u001b[0;34m\u001b[0m\u001b[0;34m\u001b[0m\u001b[0m\n\u001b[1;32m      6\u001b[0m       \u001b[0mchoice\u001b[0m \u001b[0;34m=\u001b[0m \u001b[0mint\u001b[0m\u001b[0;34m(\u001b[0m\u001b[0minput\u001b[0m\u001b[0;34m(\u001b[0m\u001b[0;34m\"Сказано же ,дебил, добавь 1 или 2!\"\u001b[0m\u001b[0;34m)\u001b[0m\u001b[0;34m)\u001b[0m\u001b[0;31m#Человек выбирает сколько взять\u001b[0m\u001b[0;34m\u001b[0m\u001b[0;34m\u001b[0m\u001b[0m\n",
            "\u001b[0;32m/usr/local/lib/python3.8/dist-packages/ipykernel/kernelbase.py\u001b[0m in \u001b[0;36mraw_input\u001b[0;34m(self, prompt)\u001b[0m\n\u001b[1;32m    858\u001b[0m                 \u001b[0;34m\"raw_input was called, but this frontend does not support input requests.\"\u001b[0m\u001b[0;34m\u001b[0m\u001b[0;34m\u001b[0m\u001b[0m\n\u001b[1;32m    859\u001b[0m             )\n\u001b[0;32m--> 860\u001b[0;31m         return self._input_request(str(prompt),\n\u001b[0m\u001b[1;32m    861\u001b[0m             \u001b[0mself\u001b[0m\u001b[0;34m.\u001b[0m\u001b[0m_parent_ident\u001b[0m\u001b[0;34m,\u001b[0m\u001b[0;34m\u001b[0m\u001b[0;34m\u001b[0m\u001b[0m\n\u001b[1;32m    862\u001b[0m             \u001b[0mself\u001b[0m\u001b[0;34m.\u001b[0m\u001b[0m_parent_header\u001b[0m\u001b[0;34m,\u001b[0m\u001b[0;34m\u001b[0m\u001b[0;34m\u001b[0m\u001b[0m\n",
            "\u001b[0;32m/usr/local/lib/python3.8/dist-packages/ipykernel/kernelbase.py\u001b[0m in \u001b[0;36m_input_request\u001b[0;34m(self, prompt, ident, parent, password)\u001b[0m\n\u001b[1;32m    902\u001b[0m             \u001b[0;32mexcept\u001b[0m \u001b[0mKeyboardInterrupt\u001b[0m\u001b[0;34m:\u001b[0m\u001b[0;34m\u001b[0m\u001b[0;34m\u001b[0m\u001b[0m\n\u001b[1;32m    903\u001b[0m                 \u001b[0;31m# re-raise KeyboardInterrupt, to truncate traceback\u001b[0m\u001b[0;34m\u001b[0m\u001b[0;34m\u001b[0m\u001b[0;34m\u001b[0m\u001b[0m\n\u001b[0;32m--> 904\u001b[0;31m                 \u001b[0;32mraise\u001b[0m \u001b[0mKeyboardInterrupt\u001b[0m\u001b[0;34m(\u001b[0m\u001b[0;34m\"Interrupted by user\"\u001b[0m\u001b[0;34m)\u001b[0m \u001b[0;32mfrom\u001b[0m \u001b[0;32mNone\u001b[0m\u001b[0;34m\u001b[0m\u001b[0;34m\u001b[0m\u001b[0m\n\u001b[0m\u001b[1;32m    905\u001b[0m             \u001b[0;32mexcept\u001b[0m \u001b[0mException\u001b[0m \u001b[0;32mas\u001b[0m \u001b[0me\u001b[0m\u001b[0;34m:\u001b[0m\u001b[0;34m\u001b[0m\u001b[0;34m\u001b[0m\u001b[0m\n\u001b[1;32m    906\u001b[0m                 \u001b[0mself\u001b[0m\u001b[0;34m.\u001b[0m\u001b[0mlog\u001b[0m\u001b[0;34m.\u001b[0m\u001b[0mwarning\u001b[0m\u001b[0;34m(\u001b[0m\u001b[0;34m\"Invalid Message:\"\u001b[0m\u001b[0;34m,\u001b[0m \u001b[0mexc_info\u001b[0m\u001b[0;34m=\u001b[0m\u001b[0;32mTrue\u001b[0m\u001b[0;34m)\u001b[0m\u001b[0;34m\u001b[0m\u001b[0;34m\u001b[0m\u001b[0m\n",
            "\u001b[0;31mKeyboardInterrupt\u001b[0m: Interrupted by user"
          ]
        }
      ],
      "source": [
        "c = 0\n",
        "s = 0\n",
        "\n",
        "while (c < 10 and s < 10):\n",
        "  situation = 11\n",
        "  choice = 0\n",
        "  player_lose = False\n",
        "  print(f\"На столе {situation} палочек\")\n",
        "  if ai_is_winner == False:\n",
        "    while situation>0:\n",
        "      pt = False\n",
        "      while pt == False:\n",
        "        choice = int(input(\"Сколько палочек взять? 1 или 2\"))\n",
        "        while choice != 1 and choice != 2:\n",
        "          choice = int(input(\"Сказано же ,дебил, добавь 1 или 2!\"))#Человек выбирает сколько взять\n",
        "          if situation - choice >= 0:\n",
        "            pt = True\n",
        "            print('sit: ' + str(situation))\n",
        "          else:\n",
        "            print(\"Количество палочек превышено\")\n",
        "\n",
        "         situation = situation - choice #Обновление игровой ситуации\n",
        "         if situation == 0:\n",
        "           player_lose = True\n",
        "         print(f\"на столе {situation} палочек\")\n",
        "         situation=situation-move(situation) #Ход ИИ, обновление ситуации\n",
        "         print(f\"на столе {situation} палочек\")\n",
        "         print()\n",
        "\n",
        "   if player_lose == True:\n",
        "     s += 1\n",
        "     print(\"Нейросеть выигрыла\")\n",
        "   else:\n",
        "     c += 1\n",
        "     print(\"Твоя победа!\")\n",
        "   \n",
        "   print(\"Палки кончаются\")\n",
        "   print(f\"Счёт:\\nИгрок: {c}  Нейросеть:{s}\")\n",
        "\n",
        "  print(\"Финиш\")\n",
        "  if c == 10:\n",
        "    print(\"Победа\")\n",
        "  elif s == 10:\n",
        "    print(\"Лох\")\n",
        "  else:\n",
        "    print(f\"Игра сломана! Количество палок выше нормы\\np:{с}\\nb:{s}\")\n",
        "\n",
        "   \n",
        "          \n",
        "          \n",
        "\n",
        "\n",
        "  \n",
        "    \n",
        "    \n",
        "      \n",
        "    \n",
        "      \n",
        "      "
      ]
    }
  ],
  "metadata": {
    "colab": {
      "provenance": [],
      "include_colab_link": true
    },
    "kernelspec": {
      "display_name": "Python 3",
      "name": "python3"
    },
    "language_info": {
      "name": "python"
    }
  },
  "nbformat": 4,
  "nbformat_minor": 0
}