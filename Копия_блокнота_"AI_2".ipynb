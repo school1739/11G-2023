{
  "cells": [
    {
      "cell_type": "markdown",
      "metadata": {
        "id": "view-in-github",
        "colab_type": "text"
      },
      "source": [
        "<a href=\"https://colab.research.google.com/github/school1739/10G-2023/blob/student%2Fzinchenko/%D0%9A%D0%BE%D0%BF%D0%B8%D1%8F_%D0%B1%D0%BB%D0%BE%D0%BA%D0%BD%D0%BE%D1%82%D0%B0_%22AI_2%22.ipynb\" target=\"_parent\"><img src=\"https://colab.research.google.com/assets/colab-badge.svg\" alt=\"Open In Colab\"/></a>"
      ]
    },
    {
      "cell_type": "code",
      "execution_count": 1,
      "metadata": {
        "id": "HW74Q4m0E1vx"
      },
      "outputs": [],
      "source": [
        "import random #Ягупов, Зинченко\n",
        "from copy import deepcopy"
      ]
    },
    {
      "cell_type": "code",
      "execution_count": 2,
      "metadata": {
        "id": "mo0XDH_jFQId"
      },
      "outputs": [],
      "source": [
        "the_glasses = {1:[1,1,1,2,2,2],  #Вениамин Ягупов и Фёдор Зинченко\n",
        "               2:[1,1,1,2,2,2],\n",
        "               3:[1,1,1,2,2,2],\n",
        "               4:[1,1,1,2,2,2],\n",
        "               5:[1,1,1,2,2,2],\n",
        "               6:[1,1,1,2,2,2],\n",
        "               7:[1,1,1,2,2,2],\n",
        "               8:[1,1,1,2,2,2],\n",
        "               9:[1,1,1,2,2,2],\n",
        "               10:[1,1,1,2,2,2],\n",
        "               11:[1,1,1,2,2,2]}\n",
        "\n",
        "win_glasses={}# вывод словаря стаканов\n",
        "situation = 11\n",
        "ai_is_winner = False"
      ]
    },
    {
      "cell_type": "code",
      "execution_count": 3,
      "metadata": {
        "id": "Zb5pzUjSNjJ_"
      },
      "outputs": [],
      "source": [
        "def move(situation):# сделать ход (выбрать случ. бумажку из стакана и вернуть знаечение)\n",
        "  pt = False\n",
        "  print(\"Ходит ИИ\")\n",
        "  if situation > 0:\n",
        "    while pt == False:\n",
        "      the_move = random.choice(the_glasses[situation])\n",
        "      print(the_move)\n",
        "      if situation - the_move >= 0:\n",
        "        pt = True\n",
        "      return the_move\n",
        "    else:\n",
        "      return (0)\n",
        "    \n",
        "   \n",
        "\n",
        "def win_glasses_fill(situation,move):# записать использованные стаканы и бумажки\n",
        "  win_glasses.update({situation:move})\n",
        "\n",
        "#def human_move(choice):# ход игрока-человека\n",
        "  #return situation-choice\n"
      ]
    },
    {
      "cell_type": "code",
      "execution_count": null,
      "metadata": {
        "colab": {
          "background_save": true,
          "base_uri": "https://localhost:8080/"
        },
        "id": "gxoSQORMN6iC",
        "outputId": "3f4a3766-1d71-470e-91e5-79c2872d5046"
      },
      "outputs": [
        {
          "name": "stdout",
          "output_type": "stream",
          "text": [
            "{1: [1, 1, 1, 2, 2, 2], 2: [1, 1, 1, 2, 2, 2], 3: [1, 1, 1, 2, 2, 2], 4: [1, 1, 1, 2, 2, 2], 5: [1, 1, 1, 2, 2, 2], 6: [1, 1, 1, 2, 2, 2], 7: [1, 1, 1, 2, 2, 2], 8: [1, 1, 1, 2, 2, 2], 9: [1, 1, 1, 2, 2, 2], 10: [1, 1, 1, 2, 2, 2], 11: [1, 1, 1, 2, 2, 2]}\n",
            "На столе 11 палочек\n",
            "Количество палочек, которое надо взять? (1 или 2)2\n",
            "sit: 11\n",
            "На столе 9 палочек\n",
            "Ходит ИИ\n",
            "2\n",
            "На столе 7 палочек\n",
            "\n",
            "Количество палочек, которое надо взять? (1 или 2)1\n",
            "sit: 7\n",
            "На столе 6 палочек\n",
            "Ходит ИИ\n",
            "2\n",
            "На столе 4 палочек\n",
            "\n",
            "Количество палочек, которое надо взять? (1 или 2)3\n",
            " 1 или 2 введи33\n",
            " 1 или 2 введи4\n",
            " 1 или 2 введи2\n",
            "sit: 4\n",
            "На столе 2 палочек\n",
            "Ходит ИИ\n",
            "2\n",
            "На столе 0 палочек\n",
            "\n",
            " ты победил \n",
            "палки кончились\n",
            "Счёт:\n",
            "Игрок:1      Бот попущенный: 0\n",
            "Шансы на выбивание каждой из цифр по стаканам:\n",
            "Стакан 1 | Шанс выбить 1: 50.0%; шанс выбить 0: 50.0% | Содержимое стакана: [1, 1, 1, 2, 2, 2]\n",
            "Стакан 2 | Шанс выбить 1: 50.0%; шанс выбить 0: 50.0% | Содержимое стакана: [1, 1, 1, 2, 2, 2]\n",
            "Стакан 3 | Шанс выбить 1: 50.0%; шанс выбить 0: 50.0% | Содержимое стакана: [1, 1, 1, 2, 2, 2]\n",
            "Стакан 4 | Шанс выбить 1: 42.86%; шанс выбить 0: 57.14% | Содержимое стакана: [1, 1, 1, 2, 2, 2, 2]\n",
            "Стакан 5 | Шанс выбить 1: 50.0%; шанс выбить 0: 50.0% | Содержимое стакана: [1, 1, 1, 2, 2, 2]\n",
            "Стакан 6 | Шанс выбить 1: 50.0%; шанс выбить 0: 50.0% | Содержимое стакана: [1, 1, 1, 2, 2, 2]\n",
            "Стакан 7 | Шанс выбить 1: 57.14%; шанс выбить 0: 42.86% | Содержимое стакана: [1, 1, 1, 2, 2, 2, 1]\n",
            "Стакан 8 | Шанс выбить 1: 50.0%; шанс выбить 0: 50.0% | Содержимое стакана: [1, 1, 1, 2, 2, 2]\n",
            "Стакан 9 | Шанс выбить 1: 50.0%; шанс выбить 0: 50.0% | Содержимое стакана: [1, 1, 1, 2, 2, 2]\n",
            "Стакан 10 | Шанс выбить 1: 50.0%; шанс выбить 0: 50.0% | Содержимое стакана: [1, 1, 1, 2, 2, 2]\n",
            "Стакан 11 | Шанс выбить 1: 42.86%; шанс выбить 0: 57.14% | Содержимое стакана: [1, 1, 1, 2, 2, 2, 2]\n",
            "\n",
            "\n",
            "\n",
            "На столе 11 палочек\n",
            "Количество палочек, которое надо взять? (1 или 2)1\n",
            "sit: 11\n",
            "На столе 10 палочек\n",
            "Ходит ИИ\n",
            "1\n",
            "На столе 9 палочек\n",
            "\n",
            "Количество палочек, которое надо взять? (1 или 2)3\n"
          ]
        }
      ],
      "source": [
        "playerPoints = 0\n",
        "botPoints = 0\n",
        "steps=[]\n",
        "\n",
        "\n",
        "print(the_glasses)\n",
        "\n",
        "\n",
        "while (playerPoints < 10 and botPoints < 10):\n",
        "  playerWon = deepcopy(the_glasses)\n",
        "  botWon = deepcopy(the_glasses)\n",
        "  situation = 11\n",
        "  choice = 0 \n",
        "  player_lose = False\n",
        "  # print('СТАКАНЫ')\n",
        "  # print(the_glasses)\n",
        "  print(f\"На столе {situation} палочек\")\n",
        "  if ai_is_winner == False:\n",
        "    while situation > 0:\n",
        "      detect = False\n",
        "      while detect == False:\n",
        "        choice = int(input('Количество палочек, которое надо взять? (1 или 2)'))\n",
        "        while choice!=1 and choice!=2:\n",
        "          choice = int(input(' 1 или 2 введи'))\n",
        "        if situation - choice >= 0:\n",
        "          detect = True\n",
        "          print('sit: ' + str(situation))\n",
        "        else:\n",
        "          print('Столько палочек нет')\n",
        "\n",
        "      steps.append(choice)\n",
        "      playerWon[situation].append(choice)\n",
        "      situation = situation - choice\n",
        "      if situation == 0:\n",
        "        player_lose = True\n",
        "      \n",
        "      print(f\"На столе {situation} палочек\")\n",
        "      botStep = move(situation)\n",
        "      botWon[situation].append(botStep)\n",
        "      situation = situation - botStep\n",
        "      print(f\"На столе {situation} палочек\")\n",
        "      print()\n",
        "      steps.append(botStep)\n",
        "\n",
        "  tempSit = 11\n",
        "  if (player_lose == True):\n",
        "    botPoints += 1\n",
        "    print('Бот сильнее')\n",
        "    print(botWon)\n",
        "    print(playerWon)\n",
        "    #print(steps)\n",
        "    the_glasses = botWon\n",
        "    steps = []\n",
        "\n",
        "\n",
        "\n",
        "  else:\n",
        "    playerPoints += 1\n",
        "    print(' ты победил ')\n",
        "    #print(botWon)\n",
        "    #print(playerWon)\n",
        "    #print(steps)\n",
        "    the_glasses = playerWon\n",
        "    steps = []\n",
        "\n",
        "  print('палки кончились')\n",
        "  print(f'Счёт:\\nИгрок:{playerPoints}      Бот попущенный: {botPoints}')\n",
        "  #print('Лог ходов: '+ str(steps))\n",
        "  # print('Стаканы: ' + str(the_glasses))\n",
        "  print('Шансы на выбивание каждой из цифр по стаканам:')\n",
        "  for i in range(1,12):\n",
        "    percentageFor1 = round(the_glasses[i].count(1) / len(the_glasses[i]) * 100, 2)\n",
        "    print(f'Стакан {i} | Шанс выбить 1: {percentageFor1}%; шанс выбить 0: {100-percentageFor1}% | Содержимое стакана: {the_glasses[i]}')\n",
        "  print('\\n\\n')\n",
        "print('финиш хим')\n",
        "if (playerPoints == 10):\n",
        "  print('Поздравляю!')\n",
        "elif (botPoints == 10):\n",
        "  print(' Тебя бот слил')\n",
        "else:\n",
        "  print(f'ТЫ СЛОМАЛ ИГРУ!!! КАКИМ ОБРАЗОМ ВЫ НАБРАЛИ БОЛЬШЕ 10 ОЧКОВ!??!?!\\np:{playerPoints}\\nb:{botPoints}')"
      ]
    }
  ],
  "metadata": {
    "colab": {
      "provenance": [],
      "authorship_tag": "ABX9TyODH3aYMJcC6uFcfx2CAkxl",
      "include_colab_link": true
    },
    "kernelspec": {
      "display_name": "Python 3",
      "name": "python3"
    },
    "language_info": {
      "name": "python"
    }
  },
  "nbformat": 4,
  "nbformat_minor": 0
}