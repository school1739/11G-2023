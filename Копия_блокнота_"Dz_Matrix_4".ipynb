{
  "nbformat": 4,
  "nbformat_minor": 0,
  "metadata": {
    "colab": {
      "provenance": [],
      "authorship_tag": "ABX9TyNMsvCBfbANfNkUY6yAVnuN",
      "include_colab_link": true
    },
    "kernelspec": {
      "name": "python3",
      "display_name": "Python 3"
    },
    "language_info": {
      "name": "python"
    }
  },
  "cells": [
    {
      "cell_type": "markdown",
      "metadata": {
        "id": "view-in-github",
        "colab_type": "text"
      },
      "source": [
        "<a href=\"https://colab.research.google.com/github/school1739/10G-2023/blob/student%2Fzinchenko/%D0%9A%D0%BE%D0%BF%D0%B8%D1%8F_%D0%B1%D0%BB%D0%BE%D0%BA%D0%BD%D0%BE%D1%82%D0%B0_%22Dz_Matrix_4%22.ipynb\" target=\"_parent\"><img src=\"https://colab.research.google.com/assets/colab-badge.svg\" alt=\"Open In Colab\"/></a>"
      ]
    },
    {
      "cell_type": "code",
      "execution_count": null,
      "metadata": {
        "id": "Gx9VDOr9hsW5"
      },
      "outputs": [],
      "source": [
        "# Есть словарь магазинов с распродажами\n",
        "\n",
        "shops = {\n",
        "    'ашан':\n",
        "        [\n",
        "            {'name': 'печенье', 'price': 10.99},\n",
        "            {'name': 'конфеты', 'price': 34.99},\n",
        "            {'name': 'карамель', 'price': 45.99},\n",
        "            {'name': 'пирожное', 'price': 67.99},\n",
        "        ],\n",
        "    'пятерочка':\n",
        "        [\n",
        "            {'name': 'печенье', 'price': 9.99},\n",
        "            {'name': 'конфеты', 'price': 32.99},\n",
        "            {'name': 'карамель', 'price': 46.99},\n",
        "            {'name': 'пирожное', 'price': 59.99},\n",
        "        ],\n",
        "    'магнит':\n",
        "        [\n",
        "            {'name': 'печенье', 'price': 11.99},\n",
        "            {'name': 'конфеты', 'price': 30.99},\n",
        "            {'name': 'карамель', 'price': 41.99},\n",
        "            {'name': 'пирожное', 'price': 62.99},\n",
        "        ],\n",
        "}\n",
        "\n",
        "# Создайте словарь цен на продкты следующего вида (писать прямо в коде)\n",
        "sweets = {\n",
        "    'печенье': [\n",
        "        {'shop': 'пятерочка', 'price': 9.99},\n",
        "        {'shop': 'ашан', 'price': 10.99}\n",
        "    ],\n",
        "    'конфеты': [\n",
        "        {'shop': 'магнит', 'price': 30.99},\n",
        "        {'shop': 'пятерочка', 'price': 32.99}\n",
        "    ],\n",
        "    'карамель': [\n",
        "            {'shop': 'магнит', 'price': 41.99},\n",
        "            {'shop': 'ашан', 'price': 45.99}\n",
        "    ],\n",
        "    'пирожное': [\n",
        "            {'shop': 'пятерочка', 'price': 59.99},\n",
        "            {'shop': 'ашан', 'price': 62.99}\n",
        "    ],\n",
        "}\n",
        "# Указать надо только по 2 магазина с минимальными ценами"
      ]
    }
  ]
}