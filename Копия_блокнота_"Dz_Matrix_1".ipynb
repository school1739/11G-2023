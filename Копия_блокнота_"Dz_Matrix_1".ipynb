{
  "nbformat": 4,
  "nbformat_minor": 0,
  "metadata": {
    "colab": {
      "provenance": [],
      "authorship_tag": "ABX9TyPE4jCaO1ozZiiNU3slmGp2",
      "include_colab_link": true
    },
    "kernelspec": {
      "name": "python3",
      "display_name": "Python 3"
    },
    "language_info": {
      "name": "python"
    }
  },
  "cells": [
    {
      "cell_type": "markdown",
      "metadata": {
        "id": "view-in-github",
        "colab_type": "text"
      },
      "source": [
        "<a href=\"https://colab.research.google.com/github/school1739/10G-2023/blob/student%2Fzinchenko/%D0%9A%D0%BE%D0%BF%D0%B8%D1%8F_%D0%B1%D0%BB%D0%BE%D0%BA%D0%BD%D0%BE%D1%82%D0%B0_%22Dz_Matrix_1%22.ipynb\" target=\"_parent\"><img src=\"https://colab.research.google.com/assets/colab-badge.svg\" alt=\"Open In Colab\"/></a>"
      ]
    },
    {
      "cell_type": "code",
      "execution_count": null,
      "metadata": {
        "id": "3Y5RlzwNf8tl"
      },
      "outputs": [],
      "source": [
        "# Есть список песен группы Depeche Mode со временем звучания с точностью до долей минут\n",
        "\n",
        "violator_songs = [\n",
        "    ['World in My Eyes', 4.86],\n",
        "    ['Sweetest Perfection', 4.43],\n",
        "    ['Personal Jesus', 4.56],\n",
        "    ['Halo', 4.9],\n",
        "    ['Waiting for the Night', 6.07],\n",
        "    ['Enjoy the Silence', 4.20],\n",
        "    ['Policy of Truth', 4.76],\n",
        "    ['Blue Dress', 4.29],\n",
        "    ['Clean', 5.83],\n",
        "]\n",
        "\n",
        "# Распечатайте общее время звучания трех песен: 'Halo', 'Enjoy the Silence' и 'Clean' в формате\n",
        "#   Три песни звучат ХХХ.XX минут\n",
        "# Точность указывается в функции round(a, b)\n",
        "# где a, это число которое надо округлить, а b количество знаков после запятой\n",
        "# более подробно про функцию round смотрите в документации https://docs.python.org/3/search.html?q=round\n",
        "\n",
        "a3_1 =violator_songs[3][1] + violator_songs[5][1] + violator_songs[3][-1]\n",
        "print(f\"Три песни звучат {round(a3_1, 2)} минут\")\n",
        "\n",
        "# Есть словарь песен группы Yellow со временем звучания с точностью до долей минут\n",
        "pocket_universe_songs = {\n",
        "    'Solar Driftwood': 1.85,\n",
        "    'Celsius': 5.98,\n",
        "    'More': 6.65,\n",
        "    'On Track': 5.55,\n",
        "    'Monolith': 6.35,\n",
        "    'To the Sea': 5.77,\n",
        "    'Magnetic': 5.88,\n",
        "    'Liquid Mountain': 2.97,\n",
        "    'Pan Blue': 5.52,\n",
        "    'Resistor': 7.22,\n",
        "    'Beyond Mirrors': 5.82,\n",
        "}\n",
        "\n",
        "# Распечатайте общее время звучания трех песен: 'On Track', 'To the Sea' и 'Beyond Mirrors'\n",
        "#   А другие три песни звучат приблизительно ХХХ минут\n",
        "\n",
        "\n",
        "a3_2 = pocket_universe_songs['On Track'] + pocket_universe_songs['To the Sea'] + pocket_universe_songs['Beyond Mirrors']\n",
        "print(f\"А другие три песни звучат приблизительно {round(a3_2)} минут\")\n",
        "\n",
        "# Обратите внимание, что делать много вычислений внутри print() - плохой стиль.\n",
        "# Лучше заранее вычислить необходимое, а затем в print(xxx, yyy, zzz)"
      ]
    }
  ]
}