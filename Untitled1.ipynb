{
  "nbformat": 4,
  "nbformat_minor": 0,
  "metadata": {
    "colab": {
      "provenance": [],
      "authorship_tag": "ABX9TyOZ/yHsXgilgfoYvZVH55cT",
      "include_colab_link": true
    },
    "kernelspec": {
      "name": "python3",
      "display_name": "Python 3"
    },
    "language_info": {
      "name": "python"
    }
  },
  "cells": [
    {
      "cell_type": "markdown",
      "metadata": {
        "id": "view-in-github",
        "colab_type": "text"
      },
      "source": [
        "<a href=\"https://colab.research.google.com/github/school1739/10G-2023/blob/student%2Flishankov/Untitled1.ipynb\" target=\"_parent\"><img src=\"https://colab.research.google.com/assets/colab-badge.svg\" alt=\"Open In Colab\"/></a>"
      ]
    },
    {
      "cell_type": "code",
      "execution_count": 9,
      "metadata": {
        "id": "ip08Lcc8_18I"
      },
      "outputs": [],
      "source": [
        "# Конструктор\n",
        "class Cat:\n",
        "  def __init__(self, name):\n",
        "    self.__name = name # Свойство ИМЯ для объекта класса Cat\n",
        "    self.__age = 0 # __ - знак инкапсуляции\n",
        "  def set_age(self, age):\n",
        "      if 1<=age<=25:\n",
        "        self.age=age\n",
        "      else:\n",
        "        print('bebra')\n",
        "  def get_age(self):\n",
        "    return self.__age\n",
        "  \n",
        "  def get_name(self):\n",
        "    return self.__name\n",
        "        \n",
        "  def display_info(self):\n",
        "    print(f'My name is {self.__name}, my age is {self.__age}')\n",
        "\n",
        "simons_cat = Cat('Rick')\n",
        "\n"
      ]
    },
    {
      "cell_type": "code",
      "source": [
        "#print(simons_cat.name, simons_cat.age)\n",
        "#print(type(simons_cat.name), type(simons_cat.age))\n",
        "#simons_cat.family = 'Simpsons'\n",
        "#print(simons_cat.family)\n",
        "#simons_cat.age += 5\n",
        "#print(simons_cat.age)\n",
        "#simons_cat.set_age(30)"
      ],
      "metadata": {
        "colab": {
          "base_uri": "https://localhost:8080/"
        },
        "id": "_LsFUuq3CbwR",
        "outputId": "a334fdf2-13cc-4c07-f99a-9edc5a9a41bd"
      },
      "execution_count": 8,
      "outputs": [
        {
          "output_type": "stream",
          "name": "stdout",
          "text": [
            "Rick 0\n",
            "<class 'str'> <class 'int'>\n",
            "Simpsons\n",
            "5\n",
            "bebra\n"
          ]
        }
      ]
    },
    {
      "cell_type": "code",
      "source": [
        "print(simons_cat.get_age())"
      ],
      "metadata": {
        "colab": {
          "base_uri": "https://localhost:8080/"
        },
        "id": "0E32-kKBIvZF",
        "outputId": "06a82689-0c36-4bfc-9a81-fb514c55cd2c"
      },
      "execution_count": 10,
      "outputs": [
        {
          "output_type": "stream",
          "name": "stdout",
          "text": [
            "0\n"
          ]
        }
      ]
    }
  ]
}