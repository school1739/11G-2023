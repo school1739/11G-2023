{
  "nbformat": 4,
  "nbformat_minor": 0,
  "metadata": {
    "colab": {
      "provenance": [],
      "authorship_tag": "ABX9TyMr3SglqFuhbn7x7qrRpdd4",
      "include_colab_link": true
    },
    "kernelspec": {
      "name": "python3",
      "display_name": "Python 3"
    },
    "language_info": {
      "name": "python"
    }
  },
  "cells": [
    {
      "cell_type": "markdown",
      "metadata": {
        "id": "view-in-github",
        "colab_type": "text"
      },
      "source": [
        "<a href=\"https://colab.research.google.com/github/school1739/10G-2023/blob/student%2Fzinchenko/Untitled1.ipynb\" target=\"_parent\"><img src=\"https://colab.research.google.com/assets/colab-badge.svg\" alt=\"Open In Colab\"/></a>"
      ]
    },
    {
      "cell_type": "code",
      "execution_count": 1,
      "metadata": {
        "colab": {
          "base_uri": "https://localhost:8080/",
          "height": 130
        },
        "id": "68vyc-EH_q-9",
        "outputId": "b7a2e611-1b01-4882-e1e3-9e272c4af574"
      },
      "outputs": [
        {
          "output_type": "error",
          "ename": "SyntaxError",
          "evalue": "ignored",
          "traceback": [
            "\u001b[0;36m  File \u001b[0;32m\"<ipython-input-1-a8ade088314d>\"\u001b[0;36m, line \u001b[0;32m3\u001b[0m\n\u001b[0;31m    Class Cat:\u001b[0m\n\u001b[0m          ^\u001b[0m\n\u001b[0;31mSyntaxError\u001b[0m\u001b[0;31m:\u001b[0m invalid syntax\n"
          ]
        }
      ],
      "source": [
        "# Classes 2\n",
        "# Конструктор\n",
        "class Cat:\n",
        "    def __init_(self, name):\n",
        "        self.name = name  # Свойство ИМЯ для объекта класса CAT\n",
        "        self.age = 0\n",
        "        \n",
        "    def set_age(self):\n",
        "        pass\n",
        "\n",
        "    def display_info(self):\n",
        "        print(f\"Name {self.name}, my age {self.age}\")\n",
        "\n",
        "\n",
        "simons_cat = Cat(\"Rick\")\n",
        "print(simons_cat)\n",
        "print(simons_cat.name, simons_cat.age)\n",
        "print(type(simons_cat.name), type(simons_cat.age))\n",
        "\n",
        "simons_cat.family = \"Simpsons\"\n",
        "print(simons_cat.family)\n",
        "\n",
        "simons_cat.display_info()\n",
        "the_age = int(input(\"Возраст кота: \"))\n",
        "simons_cat.age += 25\n",
        "print(simons_cat.name, simons_cat.age)\n"
      ]
    }
  ]
}