{
  "nbformat": 4,
  "nbformat_minor": 0,
  "metadata": {
    "colab": {
      "provenance": [],
      "authorship_tag": "ABX9TyOHzJ7V1BWVNsgShz5Orsr1",
      "include_colab_link": true
    },
    "kernelspec": {
      "name": "python3",
      "display_name": "Python 3"
    },
    "language_info": {
      "name": "python"
    }
  },
  "cells": [
    {
      "cell_type": "markdown",
      "metadata": {
        "id": "view-in-github",
        "colab_type": "text"
      },
      "source": [
        "<a href=\"https://colab.research.google.com/github/school1739/10G-2023/blob/student%2Fzinchenko/%D0%9A%D0%BE%D0%BF%D0%B8%D1%8F_%D0%B1%D0%BB%D0%BE%D0%BA%D0%BD%D0%BE%D1%82%D0%B0_%22Glasses_AI%22.ipynb\" target=\"_parent\"><img src=\"https://colab.research.google.com/assets/colab-badge.svg\" alt=\"Open In Colab\"/></a>"
      ]
    },
    {
      "cell_type": "code",
      "execution_count": null,
      "metadata": {
        "id": "tFgD8Nw16DVj"
      },
      "outputs": [],
      "source": [
        "import random\n",
        "\n",
        "# Создаём словарь стаканов\n",
        "the_glasses={1:[1,1,1,2,2,2],\n",
        "             2:[1,1,1,2,2,2],\n",
        "             3:[1,1,1,2,2,2],\n",
        "             4:[1,1,1,2,2,2],\n",
        "             5:[1,1,1,2,2,2],\n",
        "             6:[1,1,1,2,2,2],\n",
        "             7:[1,1,1,2,2,2],\n",
        "             8:[1,1,1,2,2,2],\n",
        "             9:[1,1,1,2,2,2],\n",
        "             10:[1,1,1,2,2,2],\n",
        "             11:[1,1,1,2,2,2]}\n",
        "\n",
        "used_glasses={}  # вывод словаря стаканов\n",
        "situation = 11\n",
        "ai_is_winner=False\n",
        "\n",
        "def move(situation): # сделать ход (выбрать случайную бумажку из стакана и вернуть значение)\n",
        "  detect = False\n",
        "  print('Ходит ИИ:')\n",
        "  if situation > 0:\n",
        "    while detect == False:\n",
        "      the_move = random.choice(the_glasses[situation])\n",
        "      print(the_move)\n",
        "      if situation - the_move >= 0:\n",
        "        detect = True\n",
        "    return the_move\n",
        "  else:\n",
        "    return(0)\n",
        "def used_glass_fill(situation, move): # записать использованные стаканы и бумажки)\n",
        "  used_glasses.update({situation:move})\n",
        "\n",
        "\n",
        "#def human_move(choice):\n",
        "#  return situation - choice\n",
        "\n",
        "playerPoints = 0\n",
        "botPoints = 0\n",
        "\n",
        "\n",
        "while (playerPoints < 10 and botPoints < 10):\n",
        "  situation = 11\n",
        "  choice = 0\n",
        "  player_lose = False\n",
        "  print(f\"На столе {situation} палочек\")\n",
        "  if ai_is_winner == False:\n",
        "    while situation > 0:\n",
        "      detect = False\n",
        "      while detect == False:\n",
        "        choice = int(input('Количество палочек, которое надо взять? (1 или 2)'))\n",
        "        while choice!=1 and choice!=2:\n",
        "          choice = int(input('Боже чел мамонт... 1 или 2 введи......... Клоун'))\n",
        "        if situation - choice >= 0:\n",
        "          detect = True\n",
        "          print('sit: ' + str(situation))\n",
        "        else:\n",
        "          print('Чел клоун... Сток палок нет. Может свои принесёшь?')\n",
        "\n",
        "\n",
        "      situation = situation - choice\n",
        "      if situation == 0:\n",
        "        player_lose = True\n",
        "      print(f\"На столе {situation} палочек\")\n",
        "      situation = situation - move(situation)\n",
        "      print(f'На столе {situation} палочек')\n",
        "      print()\n",
        "\n",
        "  if (player_lose == True):\n",
        "    botPoints += 1\n",
        "    print('Бот затащил тебя в соло')\n",
        "  else:\n",
        "    playerPoints += 1\n",
        "    print('Вау ты победил вау вау')\n",
        "\n",
        "  print('Афигеть палки кончились.................')\n",
        "  print(f'Счёт:\\nИгрок:{playerPoints}      Бот попущенный: {botPoints}')\n",
        "  print('\\n\\n')\n",
        "\n",
        "print('ГЕЙМ ОВЕР ЪУЪ')\n",
        "if (playerPoints == 10):\n",
        "  print('Поздравляю! Победил ботика... Гордись этим всю жизнь')\n",
        "elif (botPoints == 10):\n",
        "  print('Чел... Тебя бот слил... Что ты делаешь в этой жизни не так?')\n",
        "else:\n",
        "  print(f'ТЫ СЛОМАЛ ИГРУ ИДИОТ!!! КАКИМ ОБРАЗОМ ВЫ НАБРАЛИ БОЛЬШЕ 10 ОЧКОВ!??!?!\\np:{playerPoints}\\nb:{botPoints}')\n",
        "\n"
      ]
    }
  ]
}