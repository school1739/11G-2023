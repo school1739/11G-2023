{
  "nbformat": 4,
  "nbformat_minor": 0,
  "metadata": {
    "colab": {
      "provenance": [],
      "authorship_tag": "ABX9TyM2aMN/3MRIFdHQlWxvQdGK",
      "include_colab_link": true
    },
    "kernelspec": {
      "name": "python3",
      "display_name": "Python 3"
    },
    "language_info": {
      "name": "python"
    }
  },
  "cells": [
    {
      "cell_type": "markdown",
      "metadata": {
        "id": "view-in-github",
        "colab_type": "text"
      },
      "source": [
        "<a href=\"https://colab.research.google.com/github/school1739/10G-2023/blob/student%2Fzinchenko/%D0%9A%D0%BE%D0%BF%D0%B8%D1%8F_%D0%B1%D0%BB%D0%BE%D0%BA%D0%BD%D0%BE%D1%82%D0%B0_%22Neuroset%22.ipynb\" target=\"_parent\"><img src=\"https://colab.research.google.com/assets/colab-badge.svg\" alt=\"Open In Colab\"/></a>"
      ]
    },
    {
      "cell_type": "code",
      "execution_count": null,
      "metadata": {
        "id": "d3FsNeL8c69r"
      },
      "outputs": [],
      "source": [
        "import pandas as pd #Ягупов, Зинченко\n",
        "df = pd.DataFrame(columns=[\"Neuron\", \"Height\", \"Type\"])\n",
        "for i in range(len(layers)):\n",
        "  for j in range(len(layers[i].neurons)):\n",
        "    for  k in range(len(layers[i].neurons[j].w)):\n",
        "      df = df.append({\"Neuron\": f\"{i}_{j}\", \"Height\": layers[i].neurons[j].w[k], \"Type\":layers[i].type}, ignore_index=True)\n",
        "print(df)\n",
        "\n",
        "plt.figure(fiqsize=(10, 10), dpi = 300, facecolor = 'w', edgecolor='k')\n",
        "colors = []\n",
        "for i in range(len(layers)):\n",
        "  for j in range(len(layers[i].neurons):\n",
        "    if layers[i].type == \"S\":\n",
        "      colors.append(\"green\")\n"
      ]
    }
  ]
}