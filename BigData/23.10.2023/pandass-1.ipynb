{
 "cells": [
  {
   "cell_type": "markdown",
   "id": "252c9d16",
   "metadata": {
    "papermill": {
     "duration": 0.023779,
     "end_time": "2022-04-04T21:03:10.275219",
     "exception": false,
     "start_time": "2022-04-04T21:03:10.251440",
     "status": "completed"
    },
    "tags": []
   },
   "source": [
    "**This notebook is an exercise in the [Pandas](https://www.kaggle.com/learn/pandas) course.  You can reference the tutorial at [this link](https://www.kaggle.com/residentmario/creating-reading-and-writing).**\n",
    "\n",
    "---\n"
   ]
  },
  {
   "cell_type": "markdown",
   "id": "228113b5",
   "metadata": {
    "papermill": {
     "duration": 0.021455,
     "end_time": "2022-04-04T21:03:10.325913",
     "exception": false,
     "start_time": "2022-04-04T21:03:10.304458",
     "status": "completed"
    },
    "tags": []
   },
   "source": [
    "# Introduction\n",
    "\n",
    "The first step in most data analytics projects is reading the data file. In this exercise, you'll create Series and DataFrame objects, both by hand and by reading data files.\n",
    "\n",
    "Run the code cell below to load libraries you will need (including code to check your answers)."
   ]
  },
  {
   "cell_type": "code",
   "execution_count": 1,
   "id": "35bd53a1",
   "metadata": {
    "execution": {
     "iopub.execute_input": "2022-04-04T21:03:10.379932Z",
     "iopub.status.busy": "2022-04-04T21:03:10.379257Z",
     "iopub.status.idle": "2022-04-04T21:03:12.005894Z",
     "shell.execute_reply": "2022-04-04T21:03:12.004769Z",
     "shell.execute_reply.started": "2022-04-04T20:43:35.711482Z"
    },
    "papermill": {
     "duration": 1.659287,
     "end_time": "2022-04-04T21:03:12.006081",
     "exception": false,
     "start_time": "2022-04-04T21:03:10.346794",
     "status": "completed"
    },
    "tags": []
   },
   "outputs": [
    {
     "name": "stdout",
     "output_type": "stream",
     "text": [
      "Setup complete.\n"
     ]
    }
   ],
   "source": [
    "import pandas as pd\n",
    "pd.set_option('max_rows', 5)\n",
    "from learntools.core import binder; binder.bind(globals())\n",
    "from learntools.pandas.creating_reading_and_writing import *\n",
    "print(\"Setup complete.\")"
   ]
  },
  {
   "cell_type": "markdown",
   "id": "3937daef",
   "metadata": {
    "papermill": {
     "duration": 0.021053,
     "end_time": "2022-04-04T21:03:12.048097",
     "exception": false,
     "start_time": "2022-04-04T21:03:12.027044",
     "status": "completed"
    },
    "tags": []
   },
   "source": [
    "# Exercises"
   ]
  },
  {
   "cell_type": "markdown",
   "id": "8b4b2382",
   "metadata": {
    "papermill": {
     "duration": 0.019696,
     "end_time": "2022-04-04T21:03:12.088310",
     "exception": false,
     "start_time": "2022-04-04T21:03:12.068614",
     "status": "completed"
    },
    "tags": []
   },
   "source": [
    "## 1.\n",
    "\n",
    "In the cell below, create a DataFrame `fruits` that looks like this:\n",
    "\n",
    "![](https://i.imgur.com/Ax3pp2A.png)"
   ]
  },
  {
   "cell_type": "code",
   "execution_count": 2,
   "id": "2fca5f19",
   "metadata": {
    "execution": {
     "iopub.execute_input": "2022-04-04T21:03:12.139515Z",
     "iopub.status.busy": "2022-04-04T21:03:12.138099Z",
     "iopub.status.idle": "2022-04-04T21:03:12.151762Z",
     "shell.execute_reply": "2022-04-04T21:03:12.152288Z",
     "shell.execute_reply.started": "2022-04-04T20:43:35.909738Z"
    },
    "papermill": {
     "duration": 0.04385,
     "end_time": "2022-04-04T21:03:12.152477",
     "exception": false,
     "start_time": "2022-04-04T21:03:12.108627",
     "status": "completed"
    },
    "tags": []
   },
   "outputs": [
    {
     "data": {
      "application/javascript": [
       "parent.postMessage({\"jupyterEvent\": \"custom.exercise_interaction\", \"data\": {\"outcomeType\": 1, \"valueTowardsCompletion\": 0.16666666666666666, \"interactionType\": 1, \"questionType\": 1, \"questionId\": \"1_FruitDfCreation\", \"learnToolsVersion\": \"0.3.4\", \"failureMessage\": \"\", \"exceptionClass\": \"\", \"trace\": \"\"}}, \"*\")"
      ],
      "text/plain": [
       "<IPython.core.display.Javascript object>"
      ]
     },
     "metadata": {},
     "output_type": "display_data"
    },
    {
     "data": {
      "text/markdown": [
       "<span style=\"color:#33cc33\">Correct</span>"
      ],
      "text/plain": [
       "Correct"
      ]
     },
     "metadata": {},
     "output_type": "display_data"
    },
    {
     "data": {
      "text/html": [
       "<div>\n",
       "<style scoped>\n",
       "    .dataframe tbody tr th:only-of-type {\n",
       "        vertical-align: middle;\n",
       "    }\n",
       "\n",
       "    .dataframe tbody tr th {\n",
       "        vertical-align: top;\n",
       "    }\n",
       "\n",
       "    .dataframe thead th {\n",
       "        text-align: right;\n",
       "    }\n",
       "</style>\n",
       "<table border=\"1\" class=\"dataframe\">\n",
       "  <thead>\n",
       "    <tr style=\"text-align: right;\">\n",
       "      <th></th>\n",
       "      <th>Apples</th>\n",
       "      <th>Bananas</th>\n",
       "    </tr>\n",
       "  </thead>\n",
       "  <tbody>\n",
       "    <tr>\n",
       "      <th>0</th>\n",
       "      <td>30</td>\n",
       "      <td>21</td>\n",
       "    </tr>\n",
       "  </tbody>\n",
       "</table>\n",
       "</div>"
      ],
      "text/plain": [
       "   Apples  Bananas\n",
       "0      30       21"
      ]
     },
     "execution_count": 2,
     "metadata": {},
     "output_type": "execute_result"
    }
   ],
   "source": [
    "# Your code goes here. Create a dataframe matching the above diagram and assign it to the variable fruits.\n",
    "fruits = pd.DataFrame([[30, 21]], columns=['Apples', 'Bananas'])\n",
    "\n",
    "# Check your answer\n",
    "q1.check()\n",
    "fruits"
   ]
  },
  {
   "cell_type": "code",
   "execution_count": 3,
   "id": "f77b116b",
   "metadata": {
    "execution": {
     "iopub.execute_input": "2022-04-04T21:03:12.200915Z",
     "iopub.status.busy": "2022-04-04T21:03:12.200188Z",
     "iopub.status.idle": "2022-04-04T21:03:12.202882Z",
     "shell.execute_reply": "2022-04-04T21:03:12.202252Z",
     "shell.execute_reply.started": "2022-04-04T20:43:36.058573Z"
    },
    "papermill": {
     "duration": 0.028845,
     "end_time": "2022-04-04T21:03:12.203018",
     "exception": false,
     "start_time": "2022-04-04T21:03:12.174173",
     "status": "completed"
    },
    "tags": []
   },
   "outputs": [],
   "source": [
    "#q1.hint()\n",
    "#q1.solution()"
   ]
  },
  {
   "cell_type": "markdown",
   "id": "61dbc90c",
   "metadata": {
    "papermill": {
     "duration": 0.021459,
     "end_time": "2022-04-04T21:03:12.246531",
     "exception": false,
     "start_time": "2022-04-04T21:03:12.225072",
     "status": "completed"
    },
    "tags": []
   },
   "source": [
    "## 2.\n",
    "\n",
    "Create a dataframe `fruit_sales` that matches the diagram below:\n",
    "\n",
    "![](https://i.imgur.com/CHPn7ZF.png)"
   ]
  },
  {
   "cell_type": "code",
   "execution_count": 4,
   "id": "56c89081",
   "metadata": {
    "execution": {
     "iopub.execute_input": "2022-04-04T21:03:12.298163Z",
     "iopub.status.busy": "2022-04-04T21:03:12.297047Z",
     "iopub.status.idle": "2022-04-04T21:03:12.307785Z",
     "shell.execute_reply": "2022-04-04T21:03:12.308244Z",
     "shell.execute_reply.started": "2022-04-04T20:43:36.204076Z"
    },
    "papermill": {
     "duration": 0.040108,
     "end_time": "2022-04-04T21:03:12.308428",
     "exception": false,
     "start_time": "2022-04-04T21:03:12.268320",
     "status": "completed"
    },
    "tags": []
   },
   "outputs": [
    {
     "data": {
      "application/javascript": [
       "parent.postMessage({\"jupyterEvent\": \"custom.exercise_interaction\", \"data\": {\"outcomeType\": 1, \"valueTowardsCompletion\": 0.16666666666666666, \"interactionType\": 1, \"questionType\": 1, \"questionId\": \"2_FruitSalesDfCreation\", \"learnToolsVersion\": \"0.3.4\", \"failureMessage\": \"\", \"exceptionClass\": \"\", \"trace\": \"\"}}, \"*\")"
      ],
      "text/plain": [
       "<IPython.core.display.Javascript object>"
      ]
     },
     "metadata": {},
     "output_type": "display_data"
    },
    {
     "data": {
      "text/markdown": [
       "<span style=\"color:#33cc33\">Correct</span>"
      ],
      "text/plain": [
       "Correct"
      ]
     },
     "metadata": {},
     "output_type": "display_data"
    },
    {
     "data": {
      "text/html": [
       "<div>\n",
       "<style scoped>\n",
       "    .dataframe tbody tr th:only-of-type {\n",
       "        vertical-align: middle;\n",
       "    }\n",
       "\n",
       "    .dataframe tbody tr th {\n",
       "        vertical-align: top;\n",
       "    }\n",
       "\n",
       "    .dataframe thead th {\n",
       "        text-align: right;\n",
       "    }\n",
       "</style>\n",
       "<table border=\"1\" class=\"dataframe\">\n",
       "  <thead>\n",
       "    <tr style=\"text-align: right;\">\n",
       "      <th></th>\n",
       "      <th>Apples</th>\n",
       "      <th>Bananas</th>\n",
       "    </tr>\n",
       "  </thead>\n",
       "  <tbody>\n",
       "    <tr>\n",
       "      <th>2017 Sales</th>\n",
       "      <td>35</td>\n",
       "      <td>21</td>\n",
       "    </tr>\n",
       "    <tr>\n",
       "      <th>2018 Sales</th>\n",
       "      <td>41</td>\n",
       "      <td>34</td>\n",
       "    </tr>\n",
       "  </tbody>\n",
       "</table>\n",
       "</div>"
      ],
      "text/plain": [
       "            Apples  Bananas\n",
       "2017 Sales      35       21\n",
       "2018 Sales      41       34"
      ]
     },
     "execution_count": 4,
     "metadata": {},
     "output_type": "execute_result"
    }
   ],
   "source": [
    "# Your code goes here. Create a dataframe matching the above diagram and assign it to the variable fruit_sales.\n",
    "fruit_sales = pd.DataFrame({'Apples': [35,41], 'Bananas': [21,34]}, index = ['2017 Sales','2018 Sales'])\n",
    "\n",
    "# Check your answer\n",
    "q2.check()\n",
    "fruit_sales"
   ]
  },
  {
   "cell_type": "code",
   "execution_count": 5,
   "id": "5c15cd78",
   "metadata": {
    "execution": {
     "iopub.execute_input": "2022-04-04T21:03:12.360434Z",
     "iopub.status.busy": "2022-04-04T21:03:12.359488Z",
     "iopub.status.idle": "2022-04-04T21:03:12.362682Z",
     "shell.execute_reply": "2022-04-04T21:03:12.363266Z",
     "shell.execute_reply.started": "2022-04-04T20:43:36.327577Z"
    },
    "papermill": {
     "duration": 0.031462,
     "end_time": "2022-04-04T21:03:12.363463",
     "exception": false,
     "start_time": "2022-04-04T21:03:12.332001",
     "status": "completed"
    },
    "tags": []
   },
   "outputs": [],
   "source": [
    "#q2.hint()\n",
    "#q2.solution()"
   ]
  },
  {
   "cell_type": "markdown",
   "id": "fee00de7",
   "metadata": {
    "papermill": {
     "duration": 0.024062,
     "end_time": "2022-04-04T21:03:12.411311",
     "exception": false,
     "start_time": "2022-04-04T21:03:12.387249",
     "status": "completed"
    },
    "tags": []
   },
   "source": [
    "## 3.\n",
    "\n",
    "Create a variable `ingredients` with a Series that looks like:\n",
    "\n",
    "```\n",
    "Flour     4 cups\n",
    "Milk       1 cup\n",
    "Eggs     2 large\n",
    "Spam       1 can\n",
    "Name: Dinner, dtype: object\n",
    "```"
   ]
  },
  {
   "cell_type": "code",
   "execution_count": 6,
   "id": "a3e4bd41",
   "metadata": {
    "execution": {
     "iopub.execute_input": "2022-04-04T21:03:12.463327Z",
     "iopub.status.busy": "2022-04-04T21:03:12.462603Z",
     "iopub.status.idle": "2022-04-04T21:03:12.474347Z",
     "shell.execute_reply": "2022-04-04T21:03:12.474842Z",
     "shell.execute_reply.started": "2022-04-04T20:43:36.470732Z"
    },
    "papermill": {
     "duration": 0.040001,
     "end_time": "2022-04-04T21:03:12.475045",
     "exception": false,
     "start_time": "2022-04-04T21:03:12.435044",
     "status": "completed"
    },
    "tags": []
   },
   "outputs": [
    {
     "data": {
      "application/javascript": [
       "parent.postMessage({\"jupyterEvent\": \"custom.exercise_interaction\", \"data\": {\"outcomeType\": 1, \"valueTowardsCompletion\": 0.16666666666666666, \"interactionType\": 1, \"questionType\": 2, \"questionId\": \"3_RecipeSeriesCreation\", \"learnToolsVersion\": \"0.3.4\", \"failureMessage\": \"\", \"exceptionClass\": \"\", \"trace\": \"\"}}, \"*\")"
      ],
      "text/plain": [
       "<IPython.core.display.Javascript object>"
      ]
     },
     "metadata": {},
     "output_type": "display_data"
    },
    {
     "data": {
      "text/markdown": [
       "<span style=\"color:#33cc33\">Correct</span>"
      ],
      "text/plain": [
       "Correct"
      ]
     },
     "metadata": {},
     "output_type": "display_data"
    },
    {
     "data": {
      "text/plain": [
       "Flour     4 cups\n",
       "Milk       1 cup\n",
       "Eggs     2 large\n",
       "Spam       1 can\n",
       "Name: Dinner, dtype: object"
      ]
     },
     "execution_count": 6,
     "metadata": {},
     "output_type": "execute_result"
    }
   ],
   "source": [
    "ingredients = pd.Series (['4 cups','1 cup','2 large','1 can'],index=['Flour','Milk','Eggs','Spam'], name='Dinner')\n",
    "\n",
    "# Check your answer\n",
    "q3.check()\n",
    "ingredients"
   ]
  },
  {
   "cell_type": "code",
   "execution_count": 7,
   "id": "4275bfc3",
   "metadata": {
    "execution": {
     "iopub.execute_input": "2022-04-04T21:03:12.531017Z",
     "iopub.status.busy": "2022-04-04T21:03:12.530278Z",
     "iopub.status.idle": "2022-04-04T21:03:12.533010Z",
     "shell.execute_reply": "2022-04-04T21:03:12.533544Z",
     "shell.execute_reply.started": "2022-04-04T20:43:36.613230Z"
    },
    "papermill": {
     "duration": 0.032943,
     "end_time": "2022-04-04T21:03:12.533736",
     "exception": false,
     "start_time": "2022-04-04T21:03:12.500793",
     "status": "completed"
    },
    "tags": []
   },
   "outputs": [],
   "source": [
    "#q3.hint()\n",
    "#q3.solution()"
   ]
  },
  {
   "cell_type": "markdown",
   "id": "c6848034",
   "metadata": {
    "papermill": {
     "duration": 0.025207,
     "end_time": "2022-04-04T21:03:12.584530",
     "exception": false,
     "start_time": "2022-04-04T21:03:12.559323",
     "status": "completed"
    },
    "tags": []
   },
   "source": [
    "## 4.\n",
    "\n",
    "Read the following csv dataset of wine reviews into a DataFrame called `reviews`:\n",
    "\n",
    "![](https://i.imgur.com/74RCZtU.png)\n",
    "\n",
    "The filepath to the csv file is `../input/wine-reviews/winemag-data_first150k.csv`. The first few lines look like:\n",
    "\n",
    "```\n",
    ",country,description,designation,points,price,province,region_1,region_2,variety,winery\n",
    "0,US,\"This tremendous 100% varietal wine[...]\",Martha's Vineyard,96,235.0,California,Napa Valley,Napa,Cabernet Sauvignon,Heitz\n",
    "1,Spain,\"Ripe aromas of fig, blackberry and[...]\",Carodorum Selección Especial Reserva,96,110.0,Northern Spain,Toro,,Tinta de Toro,Bodega Carmen Rodríguez\n",
    "```"
   ]
  },
  {
   "cell_type": "code",
   "execution_count": 8,
   "id": "4b353171",
   "metadata": {
    "execution": {
     "iopub.execute_input": "2022-04-04T21:03:12.639949Z",
     "iopub.status.busy": "2022-04-04T21:03:12.639236Z",
     "iopub.status.idle": "2022-04-04T21:03:13.562588Z",
     "shell.execute_reply": "2022-04-04T21:03:13.563143Z",
     "shell.execute_reply.started": "2022-04-04T20:43:36.748005Z"
    },
    "papermill": {
     "duration": 0.95361,
     "end_time": "2022-04-04T21:03:13.563319",
     "exception": false,
     "start_time": "2022-04-04T21:03:12.609709",
     "status": "completed"
    },
    "tags": []
   },
   "outputs": [
    {
     "data": {
      "application/javascript": [
       "parent.postMessage({\"jupyterEvent\": \"custom.exercise_interaction\", \"data\": {\"outcomeType\": 1, \"valueTowardsCompletion\": 0.16666666666666666, \"interactionType\": 1, \"questionType\": 1, \"questionId\": \"4_ReadWineCsv\", \"learnToolsVersion\": \"0.3.4\", \"failureMessage\": \"\", \"exceptionClass\": \"\", \"trace\": \"\"}}, \"*\")"
      ],
      "text/plain": [
       "<IPython.core.display.Javascript object>"
      ]
     },
     "metadata": {},
     "output_type": "display_data"
    },
    {
     "data": {
      "text/markdown": [
       "<span style=\"color:#33cc33\">Correct</span>"
      ],
      "text/plain": [
       "Correct"
      ]
     },
     "metadata": {},
     "output_type": "display_data"
    },
    {
     "data": {
      "text/html": [
       "<div>\n",
       "<style scoped>\n",
       "    .dataframe tbody tr th:only-of-type {\n",
       "        vertical-align: middle;\n",
       "    }\n",
       "\n",
       "    .dataframe tbody tr th {\n",
       "        vertical-align: top;\n",
       "    }\n",
       "\n",
       "    .dataframe thead th {\n",
       "        text-align: right;\n",
       "    }\n",
       "</style>\n",
       "<table border=\"1\" class=\"dataframe\">\n",
       "  <thead>\n",
       "    <tr style=\"text-align: right;\">\n",
       "      <th></th>\n",
       "      <th>country</th>\n",
       "      <th>description</th>\n",
       "      <th>designation</th>\n",
       "      <th>points</th>\n",
       "      <th>price</th>\n",
       "      <th>province</th>\n",
       "      <th>region_1</th>\n",
       "      <th>region_2</th>\n",
       "      <th>variety</th>\n",
       "      <th>winery</th>\n",
       "    </tr>\n",
       "  </thead>\n",
       "  <tbody>\n",
       "    <tr>\n",
       "      <th>0</th>\n",
       "      <td>US</td>\n",
       "      <td>This tremendous 100% varietal wine hails from ...</td>\n",
       "      <td>Martha's Vineyard</td>\n",
       "      <td>96</td>\n",
       "      <td>235.0</td>\n",
       "      <td>California</td>\n",
       "      <td>Napa Valley</td>\n",
       "      <td>Napa</td>\n",
       "      <td>Cabernet Sauvignon</td>\n",
       "      <td>Heitz</td>\n",
       "    </tr>\n",
       "    <tr>\n",
       "      <th>1</th>\n",
       "      <td>Spain</td>\n",
       "      <td>Ripe aromas of fig, blackberry and cassis are ...</td>\n",
       "      <td>Carodorum Selección Especial Reserva</td>\n",
       "      <td>96</td>\n",
       "      <td>110.0</td>\n",
       "      <td>Northern Spain</td>\n",
       "      <td>Toro</td>\n",
       "      <td>NaN</td>\n",
       "      <td>Tinta de Toro</td>\n",
       "      <td>Bodega Carmen Rodríguez</td>\n",
       "    </tr>\n",
       "    <tr>\n",
       "      <th>...</th>\n",
       "      <td>...</td>\n",
       "      <td>...</td>\n",
       "      <td>...</td>\n",
       "      <td>...</td>\n",
       "      <td>...</td>\n",
       "      <td>...</td>\n",
       "      <td>...</td>\n",
       "      <td>...</td>\n",
       "      <td>...</td>\n",
       "      <td>...</td>\n",
       "    </tr>\n",
       "    <tr>\n",
       "      <th>150928</th>\n",
       "      <td>France</td>\n",
       "      <td>A perfect salmon shade, with scents of peaches...</td>\n",
       "      <td>Grand Brut Rosé</td>\n",
       "      <td>90</td>\n",
       "      <td>52.0</td>\n",
       "      <td>Champagne</td>\n",
       "      <td>Champagne</td>\n",
       "      <td>NaN</td>\n",
       "      <td>Champagne Blend</td>\n",
       "      <td>Gosset</td>\n",
       "    </tr>\n",
       "    <tr>\n",
       "      <th>150929</th>\n",
       "      <td>Italy</td>\n",
       "      <td>More Pinot Grigios should taste like this. A r...</td>\n",
       "      <td>NaN</td>\n",
       "      <td>90</td>\n",
       "      <td>15.0</td>\n",
       "      <td>Northeastern Italy</td>\n",
       "      <td>Alto Adige</td>\n",
       "      <td>NaN</td>\n",
       "      <td>Pinot Grigio</td>\n",
       "      <td>Alois Lageder</td>\n",
       "    </tr>\n",
       "  </tbody>\n",
       "</table>\n",
       "<p>150930 rows × 10 columns</p>\n",
       "</div>"
      ],
      "text/plain": [
       "       country                                        description  \\\n",
       "0           US  This tremendous 100% varietal wine hails from ...   \n",
       "1        Spain  Ripe aromas of fig, blackberry and cassis are ...   \n",
       "...        ...                                                ...   \n",
       "150928  France  A perfect salmon shade, with scents of peaches...   \n",
       "150929   Italy  More Pinot Grigios should taste like this. A r...   \n",
       "\n",
       "                                 designation  points  price  \\\n",
       "0                          Martha's Vineyard      96  235.0   \n",
       "1       Carodorum Selección Especial Reserva      96  110.0   \n",
       "...                                      ...     ...    ...   \n",
       "150928                       Grand Brut Rosé      90   52.0   \n",
       "150929                                   NaN      90   15.0   \n",
       "\n",
       "                  province     region_1 region_2             variety  \\\n",
       "0               California  Napa Valley     Napa  Cabernet Sauvignon   \n",
       "1           Northern Spain         Toro      NaN       Tinta de Toro   \n",
       "...                    ...          ...      ...                 ...   \n",
       "150928           Champagne    Champagne      NaN     Champagne Blend   \n",
       "150929  Northeastern Italy   Alto Adige      NaN        Pinot Grigio   \n",
       "\n",
       "                         winery  \n",
       "0                         Heitz  \n",
       "1       Bodega Carmen Rodríguez  \n",
       "...                         ...  \n",
       "150928                   Gosset  \n",
       "150929            Alois Lageder  \n",
       "\n",
       "[150930 rows x 10 columns]"
      ]
     },
     "execution_count": 8,
     "metadata": {},
     "output_type": "execute_result"
    }
   ],
   "source": [
    "reviews = pd.read_csv(\"../input/wine-reviews/winemag-data_first150k.csv\", index_col=0)\n",
    "\n",
    "# Check your answer\n",
    "q4.check()\n",
    "reviews"
   ]
  },
  {
   "cell_type": "code",
   "execution_count": 9,
   "id": "8501bb15",
   "metadata": {
    "execution": {
     "iopub.execute_input": "2022-04-04T21:03:13.622952Z",
     "iopub.status.busy": "2022-04-04T21:03:13.622158Z",
     "iopub.status.idle": "2022-04-04T21:03:13.624972Z",
     "shell.execute_reply": "2022-04-04T21:03:13.625500Z",
     "shell.execute_reply.started": "2022-04-04T20:43:37.676608Z"
    },
    "papermill": {
     "duration": 0.034732,
     "end_time": "2022-04-04T21:03:13.625669",
     "exception": false,
     "start_time": "2022-04-04T21:03:13.590937",
     "status": "completed"
    },
    "tags": []
   },
   "outputs": [],
   "source": [
    "#q4.hint()\n",
    "#q4.solution()"
   ]
  },
  {
   "cell_type": "markdown",
   "id": "d54df7fe",
   "metadata": {
    "papermill": {
     "duration": 0.028193,
     "end_time": "2022-04-04T21:03:13.681037",
     "exception": false,
     "start_time": "2022-04-04T21:03:13.652844",
     "status": "completed"
    },
    "tags": []
   },
   "source": [
    "## 5.\n",
    "\n",
    "Run the cell below to create and display a DataFrame called `animals`:"
   ]
  },
  {
   "cell_type": "code",
   "execution_count": 10,
   "id": "4f0b98b8",
   "metadata": {
    "execution": {
     "iopub.execute_input": "2022-04-04T21:03:13.739167Z",
     "iopub.status.busy": "2022-04-04T21:03:13.738509Z",
     "iopub.status.idle": "2022-04-04T21:03:13.747559Z",
     "shell.execute_reply": "2022-04-04T21:03:13.748128Z",
     "shell.execute_reply.started": "2022-04-04T20:43:37.682158Z"
    },
    "papermill": {
     "duration": 0.04011,
     "end_time": "2022-04-04T21:03:13.748302",
     "exception": false,
     "start_time": "2022-04-04T21:03:13.708192",
     "status": "completed"
    },
    "tags": []
   },
   "outputs": [
    {
     "data": {
      "text/html": [
       "<div>\n",
       "<style scoped>\n",
       "    .dataframe tbody tr th:only-of-type {\n",
       "        vertical-align: middle;\n",
       "    }\n",
       "\n",
       "    .dataframe tbody tr th {\n",
       "        vertical-align: top;\n",
       "    }\n",
       "\n",
       "    .dataframe thead th {\n",
       "        text-align: right;\n",
       "    }\n",
       "</style>\n",
       "<table border=\"1\" class=\"dataframe\">\n",
       "  <thead>\n",
       "    <tr style=\"text-align: right;\">\n",
       "      <th></th>\n",
       "      <th>Cows</th>\n",
       "      <th>Goats</th>\n",
       "    </tr>\n",
       "  </thead>\n",
       "  <tbody>\n",
       "    <tr>\n",
       "      <th>Year 1</th>\n",
       "      <td>12</td>\n",
       "      <td>22</td>\n",
       "    </tr>\n",
       "    <tr>\n",
       "      <th>Year 2</th>\n",
       "      <td>20</td>\n",
       "      <td>19</td>\n",
       "    </tr>\n",
       "  </tbody>\n",
       "</table>\n",
       "</div>"
      ],
      "text/plain": [
       "        Cows  Goats\n",
       "Year 1    12     22\n",
       "Year 2    20     19"
      ]
     },
     "execution_count": 10,
     "metadata": {},
     "output_type": "execute_result"
    }
   ],
   "source": [
    "animals = pd.DataFrame({'Cows': [12, 20], 'Goats': [22, 19]}, index=['Year 1', 'Year 2'])\n",
    "animals"
   ]
  },
  {
   "cell_type": "markdown",
   "id": "90cc125c",
   "metadata": {
    "papermill": {
     "duration": 0.027983,
     "end_time": "2022-04-04T21:03:13.804182",
     "exception": false,
     "start_time": "2022-04-04T21:03:13.776199",
     "status": "completed"
    },
    "tags": []
   },
   "source": [
    "In the cell below, write code to save this DataFrame to disk as a csv file with the name `cows_and_goats.csv`."
   ]
  },
  {
   "cell_type": "code",
   "execution_count": 11,
   "id": "1e41a391",
   "metadata": {
    "execution": {
     "iopub.execute_input": "2022-04-04T21:03:13.863416Z",
     "iopub.status.busy": "2022-04-04T21:03:13.862705Z",
     "iopub.status.idle": "2022-04-04T21:03:13.876435Z",
     "shell.execute_reply": "2022-04-04T21:03:13.875916Z",
     "shell.execute_reply.started": "2022-04-04T20:43:37.701039Z"
    },
    "papermill": {
     "duration": 0.04454,
     "end_time": "2022-04-04T21:03:13.876578",
     "exception": false,
     "start_time": "2022-04-04T21:03:13.832038",
     "status": "completed"
    },
    "tags": []
   },
   "outputs": [
    {
     "data": {
      "application/javascript": [
       "parent.postMessage({\"jupyterEvent\": \"custom.exercise_interaction\", \"data\": {\"outcomeType\": 1, \"valueTowardsCompletion\": 0.16666666666666666, \"interactionType\": 1, \"questionType\": 2, \"questionId\": \"5_SaveAnimalsCsv\", \"learnToolsVersion\": \"0.3.4\", \"failureMessage\": \"\", \"exceptionClass\": \"\", \"trace\": \"\"}}, \"*\")"
      ],
      "text/plain": [
       "<IPython.core.display.Javascript object>"
      ]
     },
     "metadata": {},
     "output_type": "display_data"
    },
    {
     "data": {
      "text/markdown": [
       "<span style=\"color:#33cc33\">Correct</span>"
      ],
      "text/plain": [
       "Correct"
      ]
     },
     "metadata": {},
     "output_type": "display_data"
    }
   ],
   "source": [
    "# Your code goes here\n",
    "animals.to_csv('cows_and_goats.csv')\n",
    "\n",
    "# Check your answer\n",
    "q5.check()"
   ]
  },
  {
   "cell_type": "code",
   "execution_count": 12,
   "id": "368b9ae4",
   "metadata": {
    "execution": {
     "iopub.execute_input": "2022-04-04T21:03:13.940080Z",
     "iopub.status.busy": "2022-04-04T21:03:13.939260Z",
     "iopub.status.idle": "2022-04-04T21:03:13.942368Z",
     "shell.execute_reply": "2022-04-04T21:03:13.942899Z",
     "shell.execute_reply.started": "2022-04-04T20:43:37.716161Z"
    },
    "papermill": {
     "duration": 0.036315,
     "end_time": "2022-04-04T21:03:13.943076",
     "exception": false,
     "start_time": "2022-04-04T21:03:13.906761",
     "status": "completed"
    },
    "tags": []
   },
   "outputs": [],
   "source": [
    "#q5.hint()\n",
    "#q5.solution()"
   ]
  },
  {
   "cell_type": "markdown",
   "id": "5e72787f",
   "metadata": {
    "papermill": {
     "duration": 0.028516,
     "end_time": "2022-04-04T21:03:14.001506",
     "exception": false,
     "start_time": "2022-04-04T21:03:13.972990",
     "status": "completed"
    },
    "tags": []
   },
   "source": [
    "# Keep going\n",
    "\n",
    "Move on to learn about **[indexing, selecting and assigning](https://www.kaggle.com/residentmario/indexing-selecting-assigning)**."
   ]
  },
  {
   "cell_type": "markdown",
   "id": "7172e8ab",
   "metadata": {
    "papermill": {
     "duration": 0.028793,
     "end_time": "2022-04-04T21:03:14.060888",
     "exception": false,
     "start_time": "2022-04-04T21:03:14.032095",
     "status": "completed"
    },
    "tags": []
   },
   "source": [
    "---\n",
    "\n",
    "\n",
    "\n",
    "\n",
    "*Have questions or comments? Visit the [course discussion forum](https://www.kaggle.com/learn/pandas/discussion) to chat with other learners.*"
   ]
  }
 ],
 "metadata": {
  "kernelspec": {
   "display_name": "Python 3",
   "language": "python",
   "name": "python3"
  },
  "language_info": {
   "codemirror_mode": {
    "name": "ipython",
    "version": 3
   },
   "file_extension": ".py",
   "mimetype": "text/x-python",
   "name": "python",
   "nbconvert_exporter": "python",
   "pygments_lexer": "ipython3",
   "version": "3.7.12"
  },
  "papermill": {
   "default_parameters": {},
   "duration": 14.782776,
   "end_time": "2022-04-04T21:03:14.800497",
   "environment_variables": {},
   "exception": null,
   "input_path": "__notebook__.ipynb",
   "output_path": "__notebook__.ipynb",
   "parameters": {},
   "start_time": "2022-04-04T21:03:00.017721",
   "version": "2.3.3"
  }
 },
 "nbformat": 4,
 "nbformat_minor": 5
}
